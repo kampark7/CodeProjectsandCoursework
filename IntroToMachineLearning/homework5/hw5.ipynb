{
 "cells": [
  {
   "cell_type": "code",
   "execution_count": 4,
   "metadata": {},
   "outputs": [],
   "source": [
    "%matplotlib inline\n",
    "import numpy as np\n",
    "import matplotlib.pyplot as plt\n",
    "import pandas as pd\n",
    "import sklearn\n",
    "from sklearn.model_selection import train_test_split\n",
    "from sklearn.metrics import accuracy_score\n",
    "from sklearn.linear_model import LogisticRegression\n",
    "from sklearn import linear_model\n",
    "from sklearn.preprocessing import MinMaxScaler\n",
    "import warnings\n",
    "warnings.filterwarnings(\"ignore\")"
   ]
  },
  {
   "cell_type": "code",
   "execution_count": 101,
   "metadata": {},
   "outputs": [],
   "source": [
    "data = pd.read_csv('WeatherHw5.csv')"
   ]
  },
  {
   "cell_type": "code",
   "execution_count": 102,
   "metadata": {},
   "outputs": [],
   "source": [
    "data['DidItRain'] = data['RainTotal'].apply(lambda x: 1 if x > 0 else 0)\n",
    "data['SeattleRain'] = data['DayBeforeRainSeattle'].apply(lambda x: 1 if x > 0 else 0)\n",
    "data['HotCold'] = data['TempAvg'].apply(lambda x: 1 if x >= 85.0 else (2 if x >= 50.0 else 3)) # Hot = 1, Mild = 2, Cold = 3\n",
    "data['Season'] = data['Season'].apply(lambda x: 0 if x == \"Winter\" else (1 if x == \"Spring\" else (2 if x == \"Summer\" else 3)))"
   ]
  },
  {
   "cell_type": "code",
   "execution_count": 103,
   "metadata": {},
   "outputs": [],
   "source": [
    "data['Season'] = data['Season'].astype('category')\n",
    "\n",
    "data['Season_Cat'] = data['Season'].cat.codes\n",
    "\n",
    "from sklearn.preprocessing import OneHotEncoder\n",
    "\n",
    "enc = OneHotEncoder(handle_unknown='ignore')\n",
    "\n",
    "enc_df = pd.DataFrame(enc.fit_transform(data[['Season_Cat']]).toarray())\n",
    "\n",
    "# merge with main df bridge_df on key values\n",
    "data = data.join(enc_df)"
   ]
  },
  {
   "cell_type": "code",
   "execution_count": 119,
   "metadata": {},
   "outputs": [],
   "source": [
    "scaler = MinMaxScaler()\n",
    "data[['TempMax','TempAvg','TempMin','PressureMax','HumidityMin','HumidityAvg','DewAvg','DewMax']] = scaler.fit_transform(data[['TempMax','TempAvg','TempMin','PressureMax','HumidityAvg','HumidityAvg', 'DewAvg','DewMax']])\n"
   ]
  },
  {
   "cell_type": "code",
   "execution_count": 120,
   "metadata": {},
   "outputs": [
    {
     "data": {
      "text/html": [
       "<div>\n",
       "<style scoped>\n",
       "    .dataframe tbody tr th:only-of-type {\n",
       "        vertical-align: middle;\n",
       "    }\n",
       "\n",
       "    .dataframe tbody tr th {\n",
       "        vertical-align: top;\n",
       "    }\n",
       "\n",
       "    .dataframe thead th {\n",
       "        text-align: right;\n",
       "    }\n",
       "</style>\n",
       "<table border=\"1\" class=\"dataframe\">\n",
       "  <thead>\n",
       "    <tr style=\"text-align: right;\">\n",
       "      <th></th>\n",
       "      <th>Date</th>\n",
       "      <th>TempMax</th>\n",
       "      <th>TempAvg</th>\n",
       "      <th>TempMin</th>\n",
       "      <th>DewMax</th>\n",
       "      <th>DewAvg</th>\n",
       "      <th>DewMin</th>\n",
       "      <th>HumidityMax</th>\n",
       "      <th>HumidityAvg</th>\n",
       "      <th>HumidityMin</th>\n",
       "      <th>...</th>\n",
       "      <th>DayBeforeRainSeattle</th>\n",
       "      <th>Season</th>\n",
       "      <th>DidItRain</th>\n",
       "      <th>SeattleRain</th>\n",
       "      <th>HotCold</th>\n",
       "      <th>Season_Cat</th>\n",
       "      <th>0</th>\n",
       "      <th>1</th>\n",
       "      <th>2</th>\n",
       "      <th>3</th>\n",
       "    </tr>\n",
       "  </thead>\n",
       "  <tbody>\n",
       "    <tr>\n",
       "      <th>0</th>\n",
       "      <td>112015</td>\n",
       "      <td>0.125000</td>\n",
       "      <td>0.163180</td>\n",
       "      <td>0.181818</td>\n",
       "      <td>0.205882</td>\n",
       "      <td>0.228277</td>\n",
       "      <td>2</td>\n",
       "      <td>88</td>\n",
       "      <td>0.774595</td>\n",
       "      <td>0.774595</td>\n",
       "      <td>...</td>\n",
       "      <td>0.00</td>\n",
       "      <td>0</td>\n",
       "      <td>0</td>\n",
       "      <td>0</td>\n",
       "      <td>3</td>\n",
       "      <td>0</td>\n",
       "      <td>1.0</td>\n",
       "      <td>0.0</td>\n",
       "      <td>0.0</td>\n",
       "      <td>0.0</td>\n",
       "    </tr>\n",
       "    <tr>\n",
       "      <th>1</th>\n",
       "      <td>122015</td>\n",
       "      <td>0.134615</td>\n",
       "      <td>0.178870</td>\n",
       "      <td>0.193182</td>\n",
       "      <td>0.191176</td>\n",
       "      <td>0.225331</td>\n",
       "      <td>4</td>\n",
       "      <td>85</td>\n",
       "      <td>0.699875</td>\n",
       "      <td>0.699875</td>\n",
       "      <td>...</td>\n",
       "      <td>0.00</td>\n",
       "      <td>0</td>\n",
       "      <td>0</td>\n",
       "      <td>0</td>\n",
       "      <td>3</td>\n",
       "      <td>0</td>\n",
       "      <td>1.0</td>\n",
       "      <td>0.0</td>\n",
       "      <td>0.0</td>\n",
       "      <td>0.0</td>\n",
       "    </tr>\n",
       "    <tr>\n",
       "      <th>2</th>\n",
       "      <td>132015</td>\n",
       "      <td>0.182692</td>\n",
       "      <td>0.221757</td>\n",
       "      <td>0.250000</td>\n",
       "      <td>0.264706</td>\n",
       "      <td>0.300442</td>\n",
       "      <td>10</td>\n",
       "      <td>92</td>\n",
       "      <td>0.748443</td>\n",
       "      <td>0.748443</td>\n",
       "      <td>...</td>\n",
       "      <td>0.00</td>\n",
       "      <td>0</td>\n",
       "      <td>0</td>\n",
       "      <td>0</td>\n",
       "      <td>3</td>\n",
       "      <td>0</td>\n",
       "      <td>1.0</td>\n",
       "      <td>0.0</td>\n",
       "      <td>0.0</td>\n",
       "      <td>0.0</td>\n",
       "    </tr>\n",
       "    <tr>\n",
       "      <th>3</th>\n",
       "      <td>142015</td>\n",
       "      <td>0.250000</td>\n",
       "      <td>0.290795</td>\n",
       "      <td>0.340909</td>\n",
       "      <td>0.470588</td>\n",
       "      <td>0.402062</td>\n",
       "      <td>14</td>\n",
       "      <td>92</td>\n",
       "      <td>0.767123</td>\n",
       "      <td>0.767123</td>\n",
       "      <td>...</td>\n",
       "      <td>0.06</td>\n",
       "      <td>0</td>\n",
       "      <td>0</td>\n",
       "      <td>1</td>\n",
       "      <td>3</td>\n",
       "      <td>0</td>\n",
       "      <td>1.0</td>\n",
       "      <td>0.0</td>\n",
       "      <td>0.0</td>\n",
       "      <td>0.0</td>\n",
       "    </tr>\n",
       "    <tr>\n",
       "      <th>4</th>\n",
       "      <td>152015</td>\n",
       "      <td>0.317308</td>\n",
       "      <td>0.365063</td>\n",
       "      <td>0.431818</td>\n",
       "      <td>0.558824</td>\n",
       "      <td>0.569956</td>\n",
       "      <td>26</td>\n",
       "      <td>100</td>\n",
       "      <td>0.960149</td>\n",
       "      <td>0.960149</td>\n",
       "      <td>...</td>\n",
       "      <td>0.10</td>\n",
       "      <td>0</td>\n",
       "      <td>1</td>\n",
       "      <td>1</td>\n",
       "      <td>3</td>\n",
       "      <td>0</td>\n",
       "      <td>1.0</td>\n",
       "      <td>0.0</td>\n",
       "      <td>0.0</td>\n",
       "      <td>0.0</td>\n",
       "    </tr>\n",
       "    <tr>\n",
       "      <th>...</th>\n",
       "      <td>...</td>\n",
       "      <td>...</td>\n",
       "      <td>...</td>\n",
       "      <td>...</td>\n",
       "      <td>...</td>\n",
       "      <td>...</td>\n",
       "      <td>...</td>\n",
       "      <td>...</td>\n",
       "      <td>...</td>\n",
       "      <td>...</td>\n",
       "      <td>...</td>\n",
       "      <td>...</td>\n",
       "      <td>...</td>\n",
       "      <td>...</td>\n",
       "      <td>...</td>\n",
       "      <td>...</td>\n",
       "      <td>...</td>\n",
       "      <td>...</td>\n",
       "      <td>...</td>\n",
       "      <td>...</td>\n",
       "      <td>...</td>\n",
       "    </tr>\n",
       "    <tr>\n",
       "      <th>1821</th>\n",
       "      <td>12272019</td>\n",
       "      <td>0.288462</td>\n",
       "      <td>0.355649</td>\n",
       "      <td>0.409091</td>\n",
       "      <td>0.411765</td>\n",
       "      <td>0.463918</td>\n",
       "      <td>21</td>\n",
       "      <td>85</td>\n",
       "      <td>0.696139</td>\n",
       "      <td>0.696139</td>\n",
       "      <td>...</td>\n",
       "      <td>0.00</td>\n",
       "      <td>0</td>\n",
       "      <td>0</td>\n",
       "      <td>0</td>\n",
       "      <td>3</td>\n",
       "      <td>0</td>\n",
       "      <td>1.0</td>\n",
       "      <td>0.0</td>\n",
       "      <td>0.0</td>\n",
       "      <td>0.0</td>\n",
       "    </tr>\n",
       "    <tr>\n",
       "      <th>1822</th>\n",
       "      <td>12282019</td>\n",
       "      <td>0.317308</td>\n",
       "      <td>0.350418</td>\n",
       "      <td>0.386364</td>\n",
       "      <td>0.426471</td>\n",
       "      <td>0.474227</td>\n",
       "      <td>22</td>\n",
       "      <td>92</td>\n",
       "      <td>0.750934</td>\n",
       "      <td>0.750934</td>\n",
       "      <td>...</td>\n",
       "      <td>0.05</td>\n",
       "      <td>0</td>\n",
       "      <td>0</td>\n",
       "      <td>1</td>\n",
       "      <td>3</td>\n",
       "      <td>0</td>\n",
       "      <td>1.0</td>\n",
       "      <td>0.0</td>\n",
       "      <td>0.0</td>\n",
       "      <td>0.0</td>\n",
       "    </tr>\n",
       "    <tr>\n",
       "      <th>1823</th>\n",
       "      <td>12292019</td>\n",
       "      <td>0.259615</td>\n",
       "      <td>0.351464</td>\n",
       "      <td>0.420455</td>\n",
       "      <td>0.485294</td>\n",
       "      <td>0.509573</td>\n",
       "      <td>22</td>\n",
       "      <td>92</td>\n",
       "      <td>0.833126</td>\n",
       "      <td>0.833126</td>\n",
       "      <td>...</td>\n",
       "      <td>0.01</td>\n",
       "      <td>0</td>\n",
       "      <td>0</td>\n",
       "      <td>1</td>\n",
       "      <td>3</td>\n",
       "      <td>0</td>\n",
       "      <td>1.0</td>\n",
       "      <td>0.0</td>\n",
       "      <td>0.0</td>\n",
       "      <td>0.0</td>\n",
       "    </tr>\n",
       "    <tr>\n",
       "      <th>1824</th>\n",
       "      <td>12302019</td>\n",
       "      <td>0.278846</td>\n",
       "      <td>0.360879</td>\n",
       "      <td>0.431818</td>\n",
       "      <td>0.426471</td>\n",
       "      <td>0.471281</td>\n",
       "      <td>22</td>\n",
       "      <td>82</td>\n",
       "      <td>0.696139</td>\n",
       "      <td>0.696139</td>\n",
       "      <td>...</td>\n",
       "      <td>0.00</td>\n",
       "      <td>0</td>\n",
       "      <td>1</td>\n",
       "      <td>0</td>\n",
       "      <td>3</td>\n",
       "      <td>0</td>\n",
       "      <td>1.0</td>\n",
       "      <td>0.0</td>\n",
       "      <td>0.0</td>\n",
       "      <td>0.0</td>\n",
       "    </tr>\n",
       "    <tr>\n",
       "      <th>1825</th>\n",
       "      <td>12312019</td>\n",
       "      <td>0.336538</td>\n",
       "      <td>0.412134</td>\n",
       "      <td>0.465909</td>\n",
       "      <td>0.529412</td>\n",
       "      <td>0.528719</td>\n",
       "      <td>23</td>\n",
       "      <td>79</td>\n",
       "      <td>0.666252</td>\n",
       "      <td>0.666252</td>\n",
       "      <td>...</td>\n",
       "      <td>0.01</td>\n",
       "      <td>0</td>\n",
       "      <td>0</td>\n",
       "      <td>1</td>\n",
       "      <td>3</td>\n",
       "      <td>0</td>\n",
       "      <td>1.0</td>\n",
       "      <td>0.0</td>\n",
       "      <td>0.0</td>\n",
       "      <td>0.0</td>\n",
       "    </tr>\n",
       "  </tbody>\n",
       "</table>\n",
       "<p>1826 rows × 28 columns</p>\n",
       "</div>"
      ],
      "text/plain": [
       "          Date   TempMax   TempAvg   TempMin    DewMax    DewAvg  DewMin  \\\n",
       "0       112015  0.125000  0.163180  0.181818  0.205882  0.228277       2   \n",
       "1       122015  0.134615  0.178870  0.193182  0.191176  0.225331       4   \n",
       "2       132015  0.182692  0.221757  0.250000  0.264706  0.300442      10   \n",
       "3       142015  0.250000  0.290795  0.340909  0.470588  0.402062      14   \n",
       "4       152015  0.317308  0.365063  0.431818  0.558824  0.569956      26   \n",
       "...        ...       ...       ...       ...       ...       ...     ...   \n",
       "1821  12272019  0.288462  0.355649  0.409091  0.411765  0.463918      21   \n",
       "1822  12282019  0.317308  0.350418  0.386364  0.426471  0.474227      22   \n",
       "1823  12292019  0.259615  0.351464  0.420455  0.485294  0.509573      22   \n",
       "1824  12302019  0.278846  0.360879  0.431818  0.426471  0.471281      22   \n",
       "1825  12312019  0.336538  0.412134  0.465909  0.529412  0.528719      23   \n",
       "\n",
       "      HumidityMax  HumidityAvg  HumidityMin  ...  DayBeforeRainSeattle  \\\n",
       "0              88     0.774595     0.774595  ...                  0.00   \n",
       "1              85     0.699875     0.699875  ...                  0.00   \n",
       "2              92     0.748443     0.748443  ...                  0.00   \n",
       "3              92     0.767123     0.767123  ...                  0.06   \n",
       "4             100     0.960149     0.960149  ...                  0.10   \n",
       "...           ...          ...          ...  ...                   ...   \n",
       "1821           85     0.696139     0.696139  ...                  0.00   \n",
       "1822           92     0.750934     0.750934  ...                  0.05   \n",
       "1823           92     0.833126     0.833126  ...                  0.01   \n",
       "1824           82     0.696139     0.696139  ...                  0.00   \n",
       "1825           79     0.666252     0.666252  ...                  0.01   \n",
       "\n",
       "      Season  DidItRain  SeattleRain  HotCold  Season_Cat    0    1    2    3  \n",
       "0          0          0            0        3           0  1.0  0.0  0.0  0.0  \n",
       "1          0          0            0        3           0  1.0  0.0  0.0  0.0  \n",
       "2          0          0            0        3           0  1.0  0.0  0.0  0.0  \n",
       "3          0          0            1        3           0  1.0  0.0  0.0  0.0  \n",
       "4          0          1            1        3           0  1.0  0.0  0.0  0.0  \n",
       "...      ...        ...          ...      ...         ...  ...  ...  ...  ...  \n",
       "1821       0          0            0        3           0  1.0  0.0  0.0  0.0  \n",
       "1822       0          0            1        3           0  1.0  0.0  0.0  0.0  \n",
       "1823       0          0            1        3           0  1.0  0.0  0.0  0.0  \n",
       "1824       0          1            0        3           0  1.0  0.0  0.0  0.0  \n",
       "1825       0          0            1        3           0  1.0  0.0  0.0  0.0  \n",
       "\n",
       "[1826 rows x 28 columns]"
      ]
     },
     "execution_count": 120,
     "metadata": {},
     "output_type": "execute_result"
    }
   ],
   "source": [
    "data\n",
    "#'TempMax','PressureMax','HumidityMin','HumidtyAvg','DewAvg'"
   ]
  },
  {
   "cell_type": "code",
   "execution_count": 152,
   "metadata": {},
   "outputs": [],
   "source": [
    "feature_cols = ['TempAvg','TempMax','DewAvg','HumidityMax','HumidityAvg', 'HumidityMin',\n",
    "                'WindAvg','PressureMin','PressureAvg', 'PressureMax', 'SeattleRain','Season'] \n",
    "# feature_cols = ['TempAvg','DewAvg','HumidityAvg','WindAvg', 'PressureAvg', 'SeattleRain','HotCold']\n",
    "#decided to do averages since someone would probably know those features better than the max/min for the day\n",
    "X = data[feature_cols] # Features\n",
    "y = data.DidItRain # Target variable"
   ]
  },
  {
   "cell_type": "code",
   "execution_count": 153,
   "metadata": {},
   "outputs": [],
   "source": [
    "X_train,X_test,y_train,y_test=train_test_split(X, y, test_size=0.25, random_state=25)"
   ]
  },
  {
   "cell_type": "code",
   "execution_count": 154,
   "metadata": {},
   "outputs": [],
   "source": [
    "# instantiate the model (using the default parameters)\n",
    "logreg = LogisticRegression(max_iter=5000)\n",
    "\n",
    "# fit the model with data\n",
    "logreg.fit(X_train,y_train)\n",
    "\n",
    "y_pred = logreg.predict(X_test)"
   ]
  },
  {
   "cell_type": "code",
   "execution_count": 155,
   "metadata": {},
   "outputs": [],
   "source": [
    "#X_test"
   ]
  },
  {
   "cell_type": "code",
   "execution_count": 156,
   "metadata": {},
   "outputs": [
    {
     "name": "stdout",
     "output_type": "stream",
     "text": [
      "Accuracy: 0.8555798687089715\n"
     ]
    }
   ],
   "source": [
    "print(\"Accuracy:\",accuracy_score(y_test, y_pred))"
   ]
  },
  {
   "cell_type": "code",
   "execution_count": null,
   "metadata": {},
   "outputs": [],
   "source": []
  },
  {
   "cell_type": "code",
   "execution_count": 141,
   "metadata": {},
   "outputs": [
    {
     "data": {
      "text/plain": [
       "Text(0.5, 0, 'Importance')"
      ]
     },
     "execution_count": 141,
     "metadata": {},
     "output_type": "execute_result"
    },
    {
     "data": {
      "image/png": "[encoded data removed]",
      "text/plain": [
       "<Figure size 792x432 with 1 Axes>"
      ]
     },
     "metadata": {
      "needs_background": "light"
     },
     "output_type": "display_data"
    }
   ],
   "source": [
    "coeff = list(logreg.coef_[0])\n",
    "labels = list(X_train.columns)\n",
    "features = pd.DataFrame()\n",
    "features[\"Features\"] = labels\n",
    "features['importance'] = coeff\n",
    "features.sort_values(by=['importance'], ascending=True, inplace=True)\n",
    "features['positive'] = features['importance'] > 0\n",
    "features.set_index('Features', inplace=True)\n",
    "features.importance.plot(kind='barh', figsize=(11,6), color = features.positive.map({True: 'blue', False: 'red'}))\n",
    "plt.xlabel('Importance')"
   ]
  },
  {
   "cell_type": "code",
   "execution_count": 142,
   "metadata": {},
   "outputs": [
    {
     "data": {
      "text/plain": [
       "array([[333,  20],\n",
       "       [ 46,  58]])"
      ]
     },
     "execution_count": 142,
     "metadata": {},
     "output_type": "execute_result"
    }
   ],
   "source": [
    "# Import Confusion Matrix\n",
    "from sklearn.metrics import confusion_matrix\n",
    "confusion_matrix(y_test, y_pred)"
   ]
  },
  {
   "cell_type": "code",
   "execution_count": 143,
   "metadata": {},
   "outputs": [
    {
     "data": {
      "image/png": "[encoded data removed]",
      "text/plain": [
       "<Figure size 432x288 with 1 Axes>"
      ]
     },
     "metadata": {
      "needs_background": "light"
     },
     "output_type": "display_data"
    }
   ],
   "source": [
    "from sklearn.metrics import roc_curve\n",
    "\n",
    "y_pred_prob = logreg.predict_proba(X_test)[:,1]\n",
    "fpr, tpr, thresholds = roc_curve(y_test, y_pred_prob)\n",
    "plt.plot([0, 1], [0, 1], 'k--')\n",
    "plt.plot(fpr, tpr, label='Logistic Regression')\n",
    "plt.xlabel('False Positive Rate')\n",
    "plt.ylabel('True Positive Rate')\n",
    "plt.title('Logistic Regression ROC Curve')\n",
    "plt.show();"
   ]
  },
  {
   "cell_type": "code",
   "execution_count": 144,
   "metadata": {},
   "outputs": [
    {
     "data": {
      "text/plain": [
       "0.8661200697319678"
      ]
     },
     "execution_count": 144,
     "metadata": {},
     "output_type": "execute_result"
    }
   ],
   "source": [
    "from sklearn.metrics import roc_auc_score\n",
    "roc_auc_score(y_test, y_pred_prob)"
   ]
  },
  {
   "cell_type": "code",
   "execution_count": 145,
   "metadata": {},
   "outputs": [
    {
     "data": {
      "text/plain": [
       "0.6373626373626373"
      ]
     },
     "execution_count": 145,
     "metadata": {},
     "output_type": "execute_result"
    }
   ],
   "source": [
    "from sklearn.metrics import f1_score\n",
    "f1_score(y_test, y_pred)"
   ]
  },
  {
   "cell_type": "code",
   "execution_count": 146,
   "metadata": {},
   "outputs": [
    {
     "name": "stdout",
     "output_type": "stream",
     "text": [
      "Accuracy: 83.08%\n"
     ]
    }
   ],
   "source": [
    "from sklearn.model_selection import KFold\n",
    "from sklearn import model_selection\n",
    "\n",
    "kfold = model_selection.KFold(n_splits=10)\n",
    "model_kfold = LogisticRegression(max_iter=1000)\n",
    "results_kfold = model_selection.cross_val_score(model_kfold, X, y, cv=kfold)\n",
    "print(\"Accuracy: %.2f%%\" % (results_kfold.mean()*100.0))"
   ]
  },
  {
   "cell_type": "markdown",
   "metadata": {},
   "source": [
    "## Findings\n",
    "### Is it accurate?\n",
    "The model incresed a lot more than what it was previously scored as 81%. One of the pieces that helped the most was adding rain from Seattle from the day previous. So, that was the most influential factor. I think that makes sense because the rain normally continues to travel inland towards Boise. Another piece that helped was making categories based on temperature. That is what is in the 'HotCold' column so it categorizes based on hot, mild, and cold. This would make sense becasue it is easier to decide the importance between 3 values instead of many unique values. I did a one hot encode on Seasons but it did not really do anything for the analysis. I actually ended up taking out 'HotCold' after doing some scaling since I had the TempAvg that seemed to be a more succesful feature and when I had temperature and Hotcold in my feature columns it made my prediction worse. I think my model is a good model but I could not get it to 86% like I wanted to. I am satisfied with trying the new feature scaling concepts but I am dissapointed in not being able to raise it higher.\n",
    "\n",
    "Tested both 2 days before in Seattle if it rained and 1 day before in Seattle if it rained. 1 day before made a better accuracy than 2 days before."
   ]
  },
  {
   "cell_type": "code",
   "execution_count": null,
   "metadata": {},
   "outputs": [],
   "source": []
  }
 ],
 "metadata": {
  "kernelspec": {
   "display_name": "Python 3",
   "language": "python",
   "name": "python3"
  },
  "language_info": {
   "codemirror_mode": {
    "name": "ipython",
    "version": 3
   },
   "file_extension": ".py",
   "mimetype": "text/x-python",
   "name": "python",
   "nbconvert_exporter": "python",
   "pygments_lexer": "ipython3",
   "version": "3.7.4"
  }
 },
 "nbformat": 4,
 "nbformat_minor": 2
}
