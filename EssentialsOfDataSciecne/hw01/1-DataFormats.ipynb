{
 "cells": [
  {
   "cell_type": "markdown",
   "metadata": {},
   "source": [
    "# NOAA Climate Datasets"
   ]
  },
  {
   "cell_type": "markdown",
   "metadata": {},
   "source": [
    "#### - What is the description of the data?\n",
    "The description of this data is a bit different because there are multiple data sets on this given website. However, the data in general is for the National Centers for Enviornmental Information. There are many different data sets you can selsect to view like U.S. Local Climatological Data, Climate Maps of the United States and more.\n",
    "#### - What is the data for?\n",
    "The data is for different climate and weather for the United States.\n",
    "#### - How was the data collected?\n",
    "Each of the data sets were gathered using different units of measure, methods and other facotrs. For example \"5.Storm Data Publication/Database\" was collected using the National Climatic Data Center and the National Severe Storms Forcast Center.\n",
    "#### - What format is the data in?\n",
    "Like said above, there are mutiple data sets on this website. They are mostly in PDF format as more reports but some do have options for CSV or excel data sheets.\n",
    "#### - Is the data up-to-date/recent?\n",
    "Majority of the data I observed looked to be up to date or at least updating soon.\n",
    "#### - What kinds of examples are there of the data?\n",
    "Local Climatological Data, Weather Maps/Charts, Climatic Wind Data Publication and more data sets centered around data.\n",
    "#### - Is the data easily accessible?\n",
    "Yes, the data is failry accessible? to at least sample and look at.\n",
    "#### - What restrictions are there on using the data?\n",
    "You have to pay for the full data set on majority of the sets availible from this website.\n",
    "#### - Can you think of something you could learn from analyzing this data?\n",
    "I could probably learn more about weather charting and potentially predict weather movement for different regions of the U.S.\n",
    "#### - Can you think of some issues or challenges (e.g., is the data too old? Is data missing?) you might have if you analyzed this data?\n",
    "One of the largest issues is having to pay for it but other than that the data seemes to be up to date. It also would be difficult to analyze it if it didn't come in some for of CSV or other type of data table set. "
   ]
  },
  {
   "cell_type": "markdown",
   "metadata": {},
   "source": [
    "# MIT Cancer Genomics Data"
   ]
  },
  {
   "cell_type": "markdown",
   "metadata": {},
   "source": [
    "#### - What is the description of the data?\n",
    "The data is for various types of cancer programs for various strains of cancer.\n",
    "#### - What is the data for?\n",
    "The data is linked to various publications of the disease and you can see the papers if you click on the different section headers magnifying glass.\n",
    "#### - How was the data collected?\n",
    "One project use an unsupervised subclass mapping method (SubMap), which reveals common subtypes between independent data sets.This way their data wasn't biased in the results. Each project had its own method of data collection and formatting.\n",
    "#### - What format is the data in?\n",
    "Some files were just PDFs of the overall project, others had MatLab files, .txt files, .res files, excel files, and .html files from the ones I observed.\n",
    "#### - Is the data up-to-date/recent?\n",
    "It varies but overall not very up to date research I saw from the abstracts I looked at. The earliest year I saw was 2010.\n",
    "#### - What kinds of examples are there of the data?\n",
    "Samples, class, time, Gene Names, graphs/plots of data, descritions, etc...\n",
    "#### - Is the data easily accessible?\n",
    "Yes, the data was very much accesible and often times it was all in one large .zip file for ease of downloading if there was a lot of it.\n",
    "#### - What restrictions are there on using the data?\n",
    "There didn't seem to be any restrictions on the data I'd say the only thing would be actually knowing what the data was showing.\n",
    "#### - Can you think of something you could learn from analyzing this data?\n",
    "I could probably understand the groth rate of cancer cells and other ways in which healthy cells interact with cancer cells.\n",
    "#### - Can you think of some issues or challenges (e.g., is the data too old? Is data missing?) you might have if you analyzed this data?\n",
    "For me the biggest challenge would be trying to figure out what the data was talking about in terms of medical vocabulary. Then,, understanding what the outcomes of their data actually means."
   ]
  },
  {
   "cell_type": "markdown",
   "metadata": {},
   "source": [
    "## Websites from CommonCrawl"
   ]
  },
  {
   "cell_type": "markdown",
   "metadata": {},
   "source": [
    "#### - What is the description of the data?\n",
    "This is the largest data graph for hyperlinks and web pages availible to the public.\n",
    "#### - What is the data for?\n",
    "The data is meant to be helpful for creating search algorthims, SPAM detection methods, graph analysis algorithms, and Web Science researchers \n",
    "#### - How was the data collected?\n",
    "The data was collected by a site called \"Common Crawl\" whose mission statement reads \"We build and maintain an open repository of web crawl data that can be accessed and analyzed by anyone\".\n",
    "#### - What format is the data in?\n",
    "All graphs are provided in an index/arc data format, the index format represents each line as one node where as the arc file has each line represented as a directed edge between two nodes. The files are indexed by tab using a delimeter.\n",
    "#### - Is the data up-to-date/recent?\n",
    "No, it is from the 2012 raw data so it definitley needs some updating!\n",
    "#### - What kinds of examples are there of the data?\n",
    "There are two example files one for index with 106 nodes and one for arc with 141 nodes.\n",
    "#### - Is the data easily accessible?\n",
    "Yes, the list out how to download it and link to a website to teach you how to use it.\n",
    "#### - What restrictions are there on using the data?\n",
    "The only restrictions I see are not quite knowing how to use the data on your own machine,\n",
    "#### - Can you think of something you could learn from analyzing this data?\n",
    "I could probably learn how websites are connected to each other through internal links and also hyperlinks to their sites. I could discover different relationships that websites have with others.\n",
    "#### - Can you think of some issues or challenges (e.g., is the data too old? Is data missing?) you might have if you analyzed this data?\n",
    "I would say that ther is possibly missing data becasue you cannot ppossibly have ever single website. It also only has public websites availible outside of Google, Yahoo, and Microsoft."
   ]
  },
  {
   "cell_type": "markdown",
   "metadata": {},
   "source": [
    "# US Census Data"
   ]
  },
  {
   "cell_type": "markdown",
   "metadata": {},
   "source": [
    "#### - What is the description of the data?\n",
    "The Census Bureau is the federal government’s largest statistical agency. We are dedicated to providing current facts and figures about America’s people, places, and economy. Federal law protects the confidentiality of all the information the Census Bureau collects.\n",
    "#### - What is the data for?\n",
    "The data is all of the collected data from the U.S. census\n",
    "#### - How was the data collected?\n",
    "Most of the data is being colleted by various surveys that they conduct with the American people\n",
    "#### - What format is the data in?\n",
    "You can choose what type you want between a csv with metadata, data and text file or a pdf version.\n",
    "#### - Is the data up-to-date/recent?\n",
    "It's most recent files are for 2018\n",
    "#### - What kinds of examples are there of the data?\n",
    "Total population, Age and Sex, Martial status and many more.\n",
    "#### - Is the data easily accessible?\n",
    "Yes, it is pretty accesible and there are many different options for downloading it and you can choose what years you want data from and what types of data you want to download.\n",
    "#### - What restrictions are there on using the data?\n",
    "I do not see any restrictions on this data.\n",
    "#### - Can you think of something you could learn from analyzing this data?\n",
    "I think it would be cool to make some visulization heat maps of the U.S. on popluation or age or sex to see the spead of it per area. You could probably learn some pretty neat things about the general population that way. Like geographic mobility of people and where they have lived through out their lives.\n",
    "#### - Can you think of some issues or challenges (e.g., is the data too old? Is data missing?) you might have if you analyzed this data?\n",
    "I don't really see any issues with this data except it may be difficult if you found two data sets you wanted to analyze but have to download then coallate them together."
   ]
  },
  {
   "cell_type": "markdown",
   "metadata": {},
   "source": [
    "# Twitter Graph"
   ]
  },
  {
   "cell_type": "markdown",
   "metadata": {},
   "source": [
    "#### - What is the description of the data?\n",
    "\"Twitter, a microblogging service less than three years old, commands more than 41 million users as of July 2009 and is growing fast. Twitter users tweet about any topic within the 140-character limit and follow others to receive their tweets.\"\n",
    "#### - What is the data for?\n",
    "The data is used for showing the topological characteristics of Twitter and its power as a new medium of information sharing.\n",
    "#### - How was the data collected?\n",
    "The researcher crawled the entire website on Twitter using an API to gather millions of tweets, accounts and trending topics.\n",
    "#### - What format is the data in?\n",
    "USER \\t FOLLOWER \\n USER and FOLLOWER are represented by numeric ID (integer).\n",
    "#### - Is the data up-to-date/recent?\n",
    "No, this data is from 2010 however files streams seem to be continuously updated as they have some that are crossed out and replaced.\n",
    "#### - What kinds of examples are there of the data?\n",
    "They show a social connection graph of each persons following and who they follow.\n",
    "#### - Is the data easily accessible?\n",
    "Yes, the data is pretty availible and they try to include links to help you with any issues you may encounter.\n",
    "#### - What restrictions are there on using the data?\n",
    "Some of the data had to be hidden due to Twitter's new updated user's guide so it may be difficult to gain insights on specific accounts.\n",
    "#### - Can you think of something you could learn from analyzing this data?\n",
    "I think you could learn about hwo social media trending topics begin adn see the chain of events like who tweeted out it when to see the growth of a topic becoming a trending topic. You could also learn a lot about a person's social network based on who they interact with on the internet.\n",
    "#### - Can you think of some issues or challenges (e.g., is the data too old? Is data missing?) you might have if you analyzed this data?\n",
    "I do not see very many issues with this data except that it is a bit old and doesn't contain all the data."
   ]
  },
  {
   "cell_type": "markdown",
   "metadata": {},
   "source": [
    "# Chosen Data - Guide to Football/Soccer data and APIs (football.db)"
   ]
  },
  {
   "cell_type": "markdown",
   "metadata": {},
   "source": [
    "#### - What is the description of the data?\n",
    "A free and open public domain football database & schema for use in any (programming) language (e.g. uses plain datasets).\n",
    "#### - What is the data for?\n",
    "The data is for football teams and has historical data, meaning no lives scores but the data does include the schedule, teams and players for the 2014 World Cup along with global league data. They also have up to date premier league data and other top league information.\n",
    "#### - How was the data collected?\n",
    "The data is collected by users after the games are finsihed playing. They can update repositories for the specific group wether world cup or premier league information.\n",
    "#### - What format is the data in?\n",
    "The data is a plain text document that anyone can update for open source. It can be exported as JSON, CSV or SQL for a copy of the pre-built system.\n",
    "#### - Is the data up-to-date/recent?\n",
    "Yes, it is up to date with premier league scores and stats\n",
    "#### - What kinds of examples are there of the data?\n",
    "They have plain text data with the outcomes of each Matchday in different leagues as examples.\n",
    "#### - Is the data easily accessible?\n",
    "Yes they have 42 github repositories that you can access. \n",
    "#### - What restrictions are there on using the data?\n",
    "There are no restrictions on using the data except to keep to the purpose of using it and try to make a local copy then make changes where neccesary.\n",
    "#### - Can you think of something you could learn from analyzing this data?\n",
    "I think you can run lots of statistics diagnostics on the data liek predciting the probalilty of each team winning the premier league championship and other leagues preddicted winnings. \n",
    "#### - Can you think of some issues or challenges (e.g., is the data too old? Is data missing?) you might have if you analyzed this data?\n",
    "Someone could put the incorrect information since it is open source and not run by a verified data abse manager."
   ]
  },
  {
   "cell_type": "code",
   "execution_count": null,
   "metadata": {},
   "outputs": [],
   "source": []
  }
 ],
 "metadata": {
  "kernelspec": {
   "display_name": "Python 3",
   "language": "python",
   "name": "python3"
  },
  "language_info": {
   "codemirror_mode": {
    "name": "ipython",
    "version": 3
   },
   "file_extension": ".py",
   "mimetype": "text/x-python",
   "name": "python",
   "nbconvert_exporter": "python",
   "pygments_lexer": "ipython3",
   "version": "3.7.4"
  }
 },
 "nbformat": 4,
 "nbformat_minor": 2
}
