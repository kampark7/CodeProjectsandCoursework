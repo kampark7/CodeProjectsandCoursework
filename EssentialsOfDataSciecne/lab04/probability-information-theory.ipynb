{
 "cells": [
  {
   "cell_type": "markdown",
   "metadata": {},
   "source": [
    "### Elementary Probability and Information Theory \n",
    "\n",
    "\n",
    "#### Instructions and Hints:\n",
    "\n",
    "* This notebook loads some data into a `pandas` dataframe, then does a small amount of preprocessing. Make sure your data can load by stepping through all of the cells up until question 1. \n",
    "* Most of the questions require you to write some code. In many cases, you will write some kind of probability function like we did in class using the data. \n",
    "* Some of the questions only require you to write answers, so be sure to change the cell type to markdown or raw text\n",
    "* Don't worry about normalizing the text this time (e.g., lowercase, etc.). Just focus on probabilies. \n",
    "* Most questions can be answered in a single cell, but you can make as many additional cells as you need. \n",
    "* Follow the instructions on the corresponding assignment Trello card for submitting your assignment. "
   ]
  },
  {
   "cell_type": "code",
   "execution_count": 38,
   "metadata": {},
   "outputs": [],
   "source": [
    "import pandas as pd \n",
    "\n",
    "data = pd.read_csv('pnp-train.txt',delimiter='\\t',encoding='latin-1', # utf8 encoding didn't work for this\n",
    "                  names=['type','name']) # supply the column names for the dataframe\n",
    "\n",
    "# this next line creates a new column with the lower-cased first word\n",
    "data['first_word'] = data['name'].map(lambda x: x.lower().split()[0])\n",
    "smoother = 0.00001"
   ]
  },
  {
   "cell_type": "code",
   "execution_count": 2,
   "metadata": {},
   "outputs": [
    {
     "data": {
      "text/html": [
       "<div>\n",
       "<style scoped>\n",
       "    .dataframe tbody tr th:only-of-type {\n",
       "        vertical-align: middle;\n",
       "    }\n",
       "\n",
       "    .dataframe tbody tr th {\n",
       "        vertical-align: top;\n",
       "    }\n",
       "\n",
       "    .dataframe thead th {\n",
       "        text-align: right;\n",
       "    }\n",
       "</style>\n",
       "<table border=\"1\" class=\"dataframe\">\n",
       "  <thead>\n",
       "    <tr style=\"text-align: right;\">\n",
       "      <th></th>\n",
       "      <th>type</th>\n",
       "      <th>name</th>\n",
       "      <th>first_word</th>\n",
       "    </tr>\n",
       "  </thead>\n",
       "  <tbody>\n",
       "    <tr>\n",
       "      <td>0</td>\n",
       "      <td>drug</td>\n",
       "      <td>Dilotab</td>\n",
       "      <td>dilotab</td>\n",
       "    </tr>\n",
       "    <tr>\n",
       "      <td>1</td>\n",
       "      <td>movie</td>\n",
       "      <td>Beastie Boys: Live in Glasgow</td>\n",
       "      <td>beastie</td>\n",
       "    </tr>\n",
       "    <tr>\n",
       "      <td>2</td>\n",
       "      <td>person</td>\n",
       "      <td>Michelle Ford-Eriksson</td>\n",
       "      <td>michelle</td>\n",
       "    </tr>\n",
       "    <tr>\n",
       "      <td>3</td>\n",
       "      <td>place</td>\n",
       "      <td>Ramsbury</td>\n",
       "      <td>ramsbury</td>\n",
       "    </tr>\n",
       "    <tr>\n",
       "      <td>4</td>\n",
       "      <td>place</td>\n",
       "      <td>Market Bosworth</td>\n",
       "      <td>market</td>\n",
       "    </tr>\n",
       "    <tr>\n",
       "      <td>5</td>\n",
       "      <td>drug</td>\n",
       "      <td>Cyanide Antidote Package</td>\n",
       "      <td>cyanide</td>\n",
       "    </tr>\n",
       "    <tr>\n",
       "      <td>6</td>\n",
       "      <td>person</td>\n",
       "      <td>Bill Johnson</td>\n",
       "      <td>bill</td>\n",
       "    </tr>\n",
       "    <tr>\n",
       "      <td>7</td>\n",
       "      <td>place</td>\n",
       "      <td>Ettalong</td>\n",
       "      <td>ettalong</td>\n",
       "    </tr>\n",
       "    <tr>\n",
       "      <td>8</td>\n",
       "      <td>movie</td>\n",
       "      <td>The Suicide Club</td>\n",
       "      <td>the</td>\n",
       "    </tr>\n",
       "    <tr>\n",
       "      <td>9</td>\n",
       "      <td>place</td>\n",
       "      <td>Pézenas</td>\n",
       "      <td>pézenas</td>\n",
       "    </tr>\n",
       "  </tbody>\n",
       "</table>\n",
       "</div>"
      ],
      "text/plain": [
       "     type                           name first_word\n",
       "0    drug                        Dilotab    dilotab\n",
       "1   movie  Beastie Boys: Live in Glasgow    beastie\n",
       "2  person         Michelle Ford-Eriksson   michelle\n",
       "3   place                       Ramsbury   ramsbury\n",
       "4   place                Market Bosworth     market\n",
       "5    drug       Cyanide Antidote Package    cyanide\n",
       "6  person                   Bill Johnson       bill\n",
       "7   place                       Ettalong   ettalong\n",
       "8   movie               The Suicide Club        the\n",
       "9   place                        Pézenas    pézenas"
      ]
     },
     "execution_count": 2,
     "metadata": {},
     "output_type": "execute_result"
    }
   ],
   "source": [
    "data[:10]"
   ]
  },
  {
   "cell_type": "code",
   "execution_count": 3,
   "metadata": {},
   "outputs": [
    {
     "data": {
      "text/html": [
       "<div>\n",
       "<style scoped>\n",
       "    .dataframe tbody tr th:only-of-type {\n",
       "        vertical-align: middle;\n",
       "    }\n",
       "\n",
       "    .dataframe tbody tr th {\n",
       "        vertical-align: top;\n",
       "    }\n",
       "\n",
       "    .dataframe thead th {\n",
       "        text-align: right;\n",
       "    }\n",
       "</style>\n",
       "<table border=\"1\" class=\"dataframe\">\n",
       "  <thead>\n",
       "    <tr style=\"text-align: right;\">\n",
       "      <th></th>\n",
       "      <th>type</th>\n",
       "      <th>name</th>\n",
       "      <th>first_word</th>\n",
       "    </tr>\n",
       "  </thead>\n",
       "  <tbody>\n",
       "    <tr>\n",
       "      <td>count</td>\n",
       "      <td>21001</td>\n",
       "      <td>21001</td>\n",
       "      <td>21001</td>\n",
       "    </tr>\n",
       "    <tr>\n",
       "      <td>unique</td>\n",
       "      <td>5</td>\n",
       "      <td>20992</td>\n",
       "      <td>13703</td>\n",
       "    </tr>\n",
       "    <tr>\n",
       "      <td>top</td>\n",
       "      <td>movie</td>\n",
       "      <td>Ash</td>\n",
       "      <td>the</td>\n",
       "    </tr>\n",
       "    <tr>\n",
       "      <td>freq</td>\n",
       "      <td>6262</td>\n",
       "      <td>2</td>\n",
       "      <td>635</td>\n",
       "    </tr>\n",
       "  </tbody>\n",
       "</table>\n",
       "</div>"
      ],
      "text/plain": [
       "         type   name first_word\n",
       "count   21001  21001      21001\n",
       "unique      5  20992      13703\n",
       "top     movie    Ash        the\n",
       "freq     6262      2        635"
      ]
     },
     "execution_count": 3,
     "metadata": {},
     "output_type": "execute_result"
    }
   ],
   "source": [
    "data.describe()"
   ]
  },
  {
   "cell_type": "markdown",
   "metadata": {},
   "source": [
    "## 1. Write a probability function/distribution $P(T)$ over the types. \n",
    "\n",
    "Hints:\n",
    "\n",
    "* The Counter library might be useful: `from collections import Counter`\n",
    "* Write a function `def P(T='')` that returns the probability of the specific value for T\n",
    "* You can access the types from the dataframe by calling `data['type']`"
   ]
  },
  {
   "cell_type": "code",
   "execution_count": 181,
   "metadata": {},
   "outputs": [],
   "source": [
    "from collections import Counter\n",
    "\n",
    "count_type = Counter(data['type'])\n",
    "\n",
    "def P(T):\n",
    "    global count_type\n",
    "    global data\n",
    "    \n",
    "    return float(count_type[T]/len(data['type']))"
   ]
  },
  {
   "cell_type": "markdown",
   "metadata": {},
   "source": [
    "## 2. What is `P(T='movie')` ?"
   ]
  },
  {
   "cell_type": "code",
   "execution_count": 183,
   "metadata": {},
   "outputs": [
    {
     "data": {
      "text/plain": [
       "0.29817627732012764"
      ]
     },
     "execution_count": 183,
     "metadata": {},
     "output_type": "execute_result"
    }
   ],
   "source": [
    "P(T='movie')"
   ]
  },
  {
   "cell_type": "markdown",
   "metadata": {},
   "source": [
    "## 3. Show that your probability distribution sums to one."
   ]
  },
  {
   "cell_type": "code",
   "execution_count": 184,
   "metadata": {},
   "outputs": [
    {
     "data": {
      "text/plain": [
       "1.0"
      ]
     },
     "execution_count": 184,
     "metadata": {},
     "output_type": "execute_result"
    }
   ],
   "source": [
    "import numpy as np\n",
    "\n",
    "np.sum([P(T=x) for x in set(data['type'])])"
   ]
  },
  {
   "cell_type": "markdown",
   "metadata": {},
   "source": [
    "## 4. Write a joint distribution using the type and the first word of the name\n",
    "\n",
    "Hints:\n",
    "\n",
    "* The function is $P2(T,W_1)$\n",
    "* You will need to count up types AND the first words, for example: ('person','bill)\n",
    "* Using the [itertools.product](https://docs.python.org/2/library/itertools.html#itertools.product) function was useful for me here"
   ]
  },
  {
   "cell_type": "code",
   "execution_count": 185,
   "metadata": {},
   "outputs": [],
   "source": [
    "p_w_t_estimate = {}\n",
    "p_w_t_totals = {}\n",
    "\n",
    "for t in set(data.type):\n",
    "    sub_frame = data[data.type == t]\n",
    "    sub_words = [word for word in sub_frame.first_word]\n",
    "    p_w_t_estimate[t] = Counter(sub_words)\n",
    "    p_w_t_totals[t] = len(sub_words)\n",
    "\n",
    "def P2(T='', W1=''):\n",
    "    return p_w_t_estimate[T][W1] / sum(p_w_t_totals.values())"
   ]
  },
  {
   "cell_type": "markdown",
   "metadata": {},
   "source": [
    "## 5. What is P2(T='person', W1='bill')? What about P2(T='movie',W1='the')?"
   ]
  },
  {
   "cell_type": "code",
   "execution_count": 186,
   "metadata": {},
   "outputs": [
    {
     "data": {
      "text/plain": [
       "0.00047616780153326033"
      ]
     },
     "execution_count": 186,
     "metadata": {},
     "output_type": "execute_result"
    }
   ],
   "source": [
    "P2(T='person', W1='bill')"
   ]
  },
  {
   "cell_type": "code",
   "execution_count": 187,
   "metadata": {},
   "outputs": [
    {
     "data": {
      "text/plain": [
       "0.02747488214846912"
      ]
     },
     "execution_count": 187,
     "metadata": {},
     "output_type": "execute_result"
    }
   ],
   "source": [
    "P2(T='movie', W1='the')"
   ]
  },
  {
   "cell_type": "markdown",
   "metadata": {},
   "source": [
    "## 6. Show that your probability distribution P(T,W1) sums to one."
   ]
  },
  {
   "cell_type": "code",
   "execution_count": 188,
   "metadata": {},
   "outputs": [
    {
     "data": {
      "text/plain": [
       "0.9999999999997764"
      ]
     },
     "execution_count": 188,
     "metadata": {},
     "output_type": "execute_result"
    }
   ],
   "source": [
    "sum([P2(t, word) for t in set(data.type) for word in set(data[data.type == t].first_word)])"
   ]
  },
  {
   "cell_type": "markdown",
   "metadata": {},
   "source": [
    "## 7. Make a new function Q(T) from marginalizing over P(T,W1) and make sure that Q(T) sums to one.\n",
    "\n",
    "Hints:\n",
    "\n",
    "* Your Q function will call P(T,W1)\n",
    "* Your check for the sum to one should be the same answer as Question 3, only it calls Q instead of P."
   ]
  },
  {
   "cell_type": "code",
   "execution_count": 189,
   "metadata": {},
   "outputs": [],
   "source": [
    "def Q(T):\n",
    "    return np.sum([P2(T, W1=w) for w in set(data.first_word)])"
   ]
  },
  {
   "cell_type": "code",
   "execution_count": 190,
   "metadata": {},
   "outputs": [
    {
     "data": {
      "text/plain": [
       "0.29817627732012764"
      ]
     },
     "execution_count": 190,
     "metadata": {},
     "output_type": "execute_result"
    }
   ],
   "source": [
    "Q('movie')"
   ]
  },
  {
   "cell_type": "code",
   "execution_count": 191,
   "metadata": {},
   "outputs": [
    {
     "data": {
      "text/plain": [
       "1.0"
      ]
     },
     "execution_count": 191,
     "metadata": {},
     "output_type": "execute_result"
    }
   ],
   "source": [
    "sum([Q(t) for t in set(data.type)])"
   ]
  },
  {
   "cell_type": "markdown",
   "metadata": {},
   "source": [
    "## 8. What is the KL Divergence of your Q function and your P function for Question 1?\n",
    "\n",
    "* Even if you know the answer, you still need to write code that computes it."
   ]
  },
  {
   "cell_type": "code",
   "execution_count": 192,
   "metadata": {},
   "outputs": [
    {
     "data": {
      "text/plain": [
       "-3.9722945607511195e-17"
      ]
     },
     "execution_count": 192,
     "metadata": {},
     "output_type": "execute_result"
    }
   ],
   "source": [
    "#step through each of the possible values, steps through 5 different things\n",
    "import math\n",
    "(P('movie') * math.log(P('movie')/Q('movie'))) + (P('drug') * math.log(P('drug')/Q('drug'))) + (P('person') * math.log(P('person')/Q('person'))) + (P('place') * math.log(P('place')/Q('place'))) + (P('company') * math.log(P('company')/Q('company')))\n",
    "#close enough to zero"
   ]
  },
  {
   "cell_type": "markdown",
   "metadata": {},
   "source": [
    "## 9. Convert from P(T,W1) to P(W1|T) \n",
    "\n",
    "Hints:\n",
    "\n",
    "* Just write a comment cell, no code this time. \n",
    "* Note that $P(T,W1) = P(W1,T)$"
   ]
  },
  {
   "cell_type": "markdown",
   "metadata": {},
   "source": [
    "(try to use markdown math formating, answer in this cell)"
   ]
  },
  {
   "cell_type": "markdown",
   "metadata": {},
   "source": [
    "## 10. Write a function `Pwt` (that calls the functions you already have) to compute $P(W_1|T)$.\n",
    "\n",
    "* This will be something like the multiplication rule, but you may need to change something"
   ]
  },
  {
   "cell_type": "code",
   "execution_count": 193,
   "metadata": {},
   "outputs": [],
   "source": [
    "def Pwt(W1,T):\n",
    "    if W1 not in p_w_t_estimate[T]: return float(smoother)\n",
    "    return p_w_t_estimate[T][W1] / p_w_t_totals[T]"
   ]
  },
  {
   "cell_type": "markdown",
   "metadata": {},
   "source": [
    "## 11. What is P(W1='the'|T='movie')?"
   ]
  },
  {
   "cell_type": "code",
   "execution_count": 194,
   "metadata": {},
   "outputs": [
    {
     "data": {
      "text/plain": [
       "0.09214308527626956"
      ]
     },
     "execution_count": 194,
     "metadata": {},
     "output_type": "execute_result"
    }
   ],
   "source": [
    "Pwt(W1='the',T='movie')"
   ]
  },
  {
   "cell_type": "markdown",
   "metadata": {},
   "source": [
    "## 12. Use Baye's rule to convert from P(W1|T) to P(T|W1). Write a function Ptw to reflect this. \n",
    "\n",
    "Hints:\n",
    "\n",
    "* Call your other functions.\n",
    "* You may need to write a function for P(W1) and you may need a new counter for `data['first_word']`"
   ]
  },
  {
   "cell_type": "code",
   "execution_count": 202,
   "metadata": {},
   "outputs": [],
   "source": [
    "count_word = Counter(data['first_word'])\n",
    "\n",
    "def Pw(W1):\n",
    "    global count_word\n",
    "    global data\n",
    "    return float(count_word[W1]/(len(data['first_word'])))\n",
    "\n",
    "def Ptw(T,W1):\n",
    "    return Pwt(W1,T) * P(T) / Pw(W1)"
   ]
  },
  {
   "cell_type": "code",
   "execution_count": 203,
   "metadata": {},
   "outputs": [
    {
     "data": {
      "text/plain": [
       "0.9086614173228347"
      ]
     },
     "execution_count": 203,
     "metadata": {},
     "output_type": "execute_result"
    }
   ],
   "source": [
    "Ptw(T='movie',W1='the')"
   ]
  },
  {
   "cell_type": "markdown",
   "metadata": {},
   "source": [
    "## 13 \n",
    "### What is P(T='movie'|W1='the')? \n",
    "### What about P(T='person'|W1='the')?\n",
    "### What about P(T='drug'|W1='the')?\n",
    "### What about P(T='place'|W1='the')\n",
    "### What about P(T='company'|W1='the')"
   ]
  },
  {
   "cell_type": "code",
   "execution_count": 205,
   "metadata": {},
   "outputs": [
    {
     "data": {
      "text/plain": [
       "0.9086614173228347"
      ]
     },
     "execution_count": 205,
     "metadata": {},
     "output_type": "execute_result"
    }
   ],
   "source": [
    "Ptw(T='movie',W1='the')"
   ]
  },
  {
   "cell_type": "code",
   "execution_count": 206,
   "metadata": {},
   "outputs": [
    {
     "data": {
      "text/plain": [
       "6.0409448818897646e-05"
      ]
     },
     "execution_count": 206,
     "metadata": {},
     "output_type": "execute_result"
    }
   ],
   "source": [
    "Ptw(T='person',W1='the')"
   ]
  },
  {
   "cell_type": "code",
   "execution_count": 207,
   "metadata": {},
   "outputs": [
    {
     "data": {
      "text/plain": [
       "7.921259842519686e-05"
      ]
     },
     "execution_count": 207,
     "metadata": {},
     "output_type": "execute_result"
    }
   ],
   "source": [
    "Ptw(T='drug',W1='the')"
   ]
  },
  {
   "cell_type": "code",
   "execution_count": 208,
   "metadata": {},
   "outputs": [
    {
     "data": {
      "text/plain": [
       "0.0015748031496062992"
      ]
     },
     "execution_count": 208,
     "metadata": {},
     "output_type": "execute_result"
    }
   ],
   "source": [
    "Ptw(T='place',W1='the')"
   ]
  },
  {
   "cell_type": "code",
   "execution_count": 209,
   "metadata": {},
   "outputs": [
    {
     "data": {
      "text/plain": [
       "0.08976377952755907"
      ]
     },
     "execution_count": 209,
     "metadata": {},
     "output_type": "execute_result"
    }
   ],
   "source": [
    "Ptw(T='company',W1='the')"
   ]
  },
  {
   "cell_type": "markdown",
   "metadata": {},
   "source": [
    "## 14 Given this, if the word 'the' is found in a name, what is the most likely type?"
   ]
  },
  {
   "cell_type": "markdown",
   "metadata": {
    "collapsed": true
   },
   "source": [
    "It is most likely going to show a higher proability if it is a movie after the given is the word 'the'"
   ]
  },
  {
   "cell_type": "markdown",
   "metadata": {},
   "source": [
    "## 15. Is Ptw(T='movie'|W1='the') the same as Pwt(W1='the'|T='movie') the same? Why or why not?"
   ]
  },
  {
   "cell_type": "code",
   "execution_count": 210,
   "metadata": {},
   "outputs": [
    {
     "data": {
      "text/plain": [
       "0.9086614173228347"
      ]
     },
     "execution_count": 210,
     "metadata": {},
     "output_type": "execute_result"
    }
   ],
   "source": [
    "Ptw(T='movie',W1='the')"
   ]
  },
  {
   "cell_type": "code",
   "execution_count": 211,
   "metadata": {},
   "outputs": [
    {
     "data": {
      "text/plain": [
       "0.09214308527626956"
      ]
     },
     "execution_count": 211,
     "metadata": {},
     "output_type": "execute_result"
    }
   ],
   "source": [
    "Pwt(W1='the', T='movie')"
   ]
  },
  {
   "cell_type": "markdown",
   "metadata": {},
   "source": [
    "No they are not the same because the first one is given the word 'the' what is the proability it is a movie and there are only 5 types that the word could be associated to so it makes sense that it would have a higher probability than the latter. If you are given the word 'movie' there is much of a less probaility that the first word is the because there are way more words in the column than there are types."
   ]
  },
  {
   "cell_type": "markdown",
   "metadata": {
    "collapsed": true
   },
   "source": [
    "## 16. Do you think modeling Ptw(T|W1) would be better with a continuous function like a Gaussian? Why or why not?\n",
    "\n",
    "- Answer in a markdown cell\n"
   ]
  },
  {
   "cell_type": "markdown",
   "metadata": {
    "collapsed": true
   },
   "source": [
    "I think it would be better to do a Gaussian if you were trying to visualize the data and figure out its shape. I think this would also be good to use the Gaussian becasue there can be a continuous amount of data being inputed, especially since there are so many different first words in the data set. It would be able to give us a good spread of the data."
   ]
  },
  {
   "cell_type": "code",
   "execution_count": null,
   "metadata": {
    "collapsed": true
   },
   "outputs": [],
   "source": []
  }
 ],
 "metadata": {
  "kernelspec": {
   "display_name": "Python 3",
   "language": "python",
   "name": "python3"
  },
  "language_info": {
   "codemirror_mode": {
    "name": "ipython",
    "version": 3
   },
   "file_extension": ".py",
   "mimetype": "text/x-python",
   "name": "python",
   "nbconvert_exporter": "python",
   "pygments_lexer": "ipython3",
   "version": "3.7.4"
  }
 },
 "nbformat": 4,
 "nbformat_minor": 1
}
