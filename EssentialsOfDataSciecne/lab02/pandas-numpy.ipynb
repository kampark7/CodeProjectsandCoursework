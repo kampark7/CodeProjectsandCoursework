{
 "cells": [
  {
   "cell_type": "markdown",
   "metadata": {},
   "source": [
    "## Numpy"
   ]
  },
  {
   "cell_type": "code",
   "execution_count": 39,
   "metadata": {
    "scrolled": true
   },
   "outputs": [],
   "source": [
    "import numpy as np"
   ]
  },
  {
   "cell_type": "markdown",
   "metadata": {},
   "source": [
    "##### Number 1 Converting a list to n-dimensional NumPy array"
   ]
  },
  {
   "cell_type": "code",
   "execution_count": 40,
   "metadata": {},
   "outputs": [],
   "source": [
    "numpy_array = np.array([1,2,3])"
   ]
  },
  {
   "cell_type": "markdown",
   "metadata": {},
   "source": [
    "##### Number 2 Use of np.newaxis and np.reshape"
   ]
  },
  {
   "cell_type": "code",
   "execution_count": 42,
   "metadata": {},
   "outputs": [
    {
     "data": {
      "text/plain": [
       "array([[ 0,  1,  2,  3,  4],\n",
       "       [ 5,  6,  7,  8,  9],\n",
       "       [10, 11, 12, 13, 14]])"
      ]
     },
     "execution_count": 42,
     "metadata": {},
     "output_type": "execute_result"
    }
   ],
   "source": [
    "a = [1,2,3,4,5]\n",
    "list(a)\n",
    "a_numpy = np.array(a)\n",
    "#a_numpy.shape\n",
    "\n",
    "row_vector = a_numpy[:,np.newaxis]\n",
    "col_vector = a_numpy[np.newaxis,:]\n",
    "\n",
    "a = list(range(0,15))\n",
    "b = np.array(a).reshape(3,5)\n",
    "b"
   ]
  },
  {
   "cell_type": "markdown",
   "metadata": {},
   "source": [
    "#### Number 3 Converting any data type to NumPy array"
   ]
  },
  {
   "cell_type": "code",
   "execution_count": 43,
   "metadata": {},
   "outputs": [
    {
     "data": {
      "text/plain": [
       "array([(1, 2), list([3, 4, 5]), (6, 7, 8)], dtype=object)"
      ]
     },
     "execution_count": 43,
     "metadata": {},
     "output_type": "execute_result"
    }
   ],
   "source": [
    "a = [(1,2), [3,4,(5)],(6,7,8)]\n",
    "b = np.asarray(a)\n",
    "b"
   ]
  },
  {
   "cell_type": "markdown",
   "metadata": {},
   "source": [
    "#### Number 4 Get an n-dimensional array of zeros."
   ]
  },
  {
   "cell_type": "code",
   "execution_count": 44,
   "metadata": {},
   "outputs": [
    {
     "data": {
      "text/plain": [
       "array([[0., 0., 0., 0.],\n",
       "       [0., 0., 0., 0.],\n",
       "       [0., 0., 0., 0.]])"
      ]
     },
     "execution_count": 44,
     "metadata": {},
     "output_type": "execute_result"
    }
   ],
   "source": [
    "a = np.zeros((3,4), dtype=float)\n",
    "a"
   ]
  },
  {
   "cell_type": "markdown",
   "metadata": {},
   "source": [
    "#### Number 5 Get an n-dimensional array of ones."
   ]
  },
  {
   "cell_type": "code",
   "execution_count": 46,
   "metadata": {},
   "outputs": [
    {
     "data": {
      "text/plain": [
       "array([[1, 1, 1, 1],\n",
       "       [1, 1, 1, 1],\n",
       "       [1, 1, 1, 1]], dtype=int32)"
      ]
     },
     "execution_count": 46,
     "metadata": {},
     "output_type": "execute_result"
    }
   ],
   "source": [
    "a = np.ones((3,4), dtype=np.int32)\n",
    "a"
   ]
  },
  {
   "cell_type": "markdown",
   "metadata": {},
   "source": [
    "#### Number 6 np.full and np.empty"
   ]
  },
  {
   "cell_type": "code",
   "execution_count": 47,
   "metadata": {},
   "outputs": [
    {
     "name": "stdout",
     "output_type": "stream",
     "text": [
      "[[1. 1. 1.]\n",
      " [1. 1. 1.]]\n",
      "[[1 0]\n",
      " [0 0]]\n"
     ]
    }
   ],
   "source": [
    "#np.full\n",
    "b = np.full((2,3), 1, dtype=np.float16)\n",
    "#np.empty\n",
    "a = np.empty((2,2), dtype=np.int16)\n",
    "\n",
    "print(b)\n",
    "print(a)"
   ]
  },
  {
   "cell_type": "markdown",
   "metadata": {},
   "source": [
    "#### Number 7 Getting an array of evenly spaced values with np.arrange and np.linspace"
   ]
  },
  {
   "cell_type": "code",
   "execution_count": 48,
   "metadata": {},
   "outputs": [
    {
     "data": {
      "text/plain": [
       "array([1. , 1.1, 1.2, 1.3, 1.4, 1.5, 1.6, 1.7, 1.8, 1.9])"
      ]
     },
     "execution_count": 48,
     "metadata": {},
     "output_type": "execute_result"
    }
   ],
   "source": [
    "a = np.linspace(1,2,num=5,endpoint=False,retstep=True)\n",
    "a\n",
    "b= np.arange(1,2,0.1)\n",
    "b"
   ]
  },
  {
   "cell_type": "markdown",
   "metadata": {},
   "source": [
    "#### Number 8 Finding the shape of the NumPy array"
   ]
  },
  {
   "cell_type": "code",
   "execution_count": 49,
   "metadata": {},
   "outputs": [
    {
     "data": {
      "text/plain": [
       "(10,)"
      ]
     },
     "execution_count": 49,
     "metadata": {},
     "output_type": "execute_result"
    }
   ],
   "source": [
    "c = b.shape\n",
    "c"
   ]
  },
  {
   "cell_type": "markdown",
   "metadata": {},
   "source": [
    "#### Number 9 Knowing the dimensions of the NumPy array"
   ]
  },
  {
   "cell_type": "code",
   "execution_count": 50,
   "metadata": {},
   "outputs": [
    {
     "data": {
      "text/plain": [
       "1"
      ]
     },
     "execution_count": 50,
     "metadata": {},
     "output_type": "execute_result"
    }
   ],
   "source": [
    "x = np.array([1,2,3])\n",
    "y = x.ndim\n",
    "y"
   ]
  },
  {
   "cell_type": "markdown",
   "metadata": {},
   "source": [
    "#### Number 10 Finding the number of elements in the NumPy array"
   ]
  },
  {
   "cell_type": "code",
   "execution_count": 51,
   "metadata": {},
   "outputs": [
    {
     "data": {
      "text/plain": [
       "24"
      ]
     },
     "execution_count": 51,
     "metadata": {},
     "output_type": "execute_result"
    }
   ],
   "source": [
    "x = np.ones((3,2,4),dtype=np.int16)\n",
    "y =x.size\n",
    "y"
   ]
  },
  {
   "cell_type": "markdown",
   "metadata": {},
   "source": [
    "#### Number 11 Get the memory space occupied by an n-dimensional array"
   ]
  },
  {
   "cell_type": "code",
   "execution_count": 52,
   "metadata": {},
   "outputs": [
    {
     "data": {
      "text/plain": [
       "48"
      ]
     },
     "execution_count": 52,
     "metadata": {},
     "output_type": "execute_result"
    }
   ],
   "source": [
    "y = x.nbytes\n",
    "y"
   ]
  },
  {
   "cell_type": "markdown",
   "metadata": {},
   "source": [
    "#### Number 12 Finding the data type of elements in the NumPy array"
   ]
  },
  {
   "cell_type": "code",
   "execution_count": 53,
   "metadata": {},
   "outputs": [
    {
     "data": {
      "text/plain": [
       "dtype('int16')"
      ]
     },
     "execution_count": 53,
     "metadata": {},
     "output_type": "execute_result"
    }
   ],
   "source": [
    "x = np.ones((2,3), dtype=np.int16)\n",
    "\n",
    "y = x.dtype\n",
    "y"
   ]
  },
  {
   "cell_type": "markdown",
   "metadata": {},
   "source": [
    "#### Number 13 How to create a copy of NumPy array"
   ]
  },
  {
   "cell_type": "code",
   "execution_count": 54,
   "metadata": {},
   "outputs": [
    {
     "data": {
      "text/plain": [
       "array([[1, 3],\n",
       "       [5, 6]])"
      ]
     },
     "execution_count": 54,
     "metadata": {},
     "output_type": "execute_result"
    }
   ],
   "source": [
    "y = np.array([[1,3],[5,6]])\n",
    "x = np.copy(y)\n",
    "x"
   ]
  },
  {
   "cell_type": "markdown",
   "metadata": {},
   "source": [
    "#### Number 14 Get transpose of an n-d array"
   ]
  },
  {
   "cell_type": "code",
   "execution_count": 55,
   "metadata": {},
   "outputs": [
    {
     "data": {
      "text/plain": [
       "array([[1, 3],\n",
       "       [2, 4]])"
      ]
     },
     "execution_count": 55,
     "metadata": {},
     "output_type": "execute_result"
    }
   ],
   "source": [
    "x = np.array([[1,2],[3,4]])\n",
    "y = x.T\n",
    "y"
   ]
  },
  {
   "cell_type": "markdown",
   "metadata": {},
   "source": [
    "#### Number 15 Flatten an n-d array to get a one-dimensional array"
   ]
  },
  {
   "cell_type": "code",
   "execution_count": 58,
   "metadata": {},
   "outputs": [
    {
     "data": {
      "text/plain": [
       "array([1, 2, 3, 4, 5, 6])"
      ]
     },
     "execution_count": 58,
     "metadata": {},
     "output_type": "execute_result"
    }
   ],
   "source": [
    "x = np.array([[1,2,3],[4,5,9]])\n",
    "y = x.reshape(-1)\n",
    "\n",
    "z = np.array([[1,2,3],[4,5,6]])\n",
    "w = z.ravel()\n",
    "w"
   ]
  },
  {
   "cell_type": "markdown",
   "metadata": {},
   "source": [
    "#### Number 16 Change axes of an n-d array or swap dimensions"
   ]
  },
  {
   "cell_type": "code",
   "execution_count": 59,
   "metadata": {},
   "outputs": [
    {
     "data": {
      "text/plain": [
       "array([[1, 3],\n",
       "       [2, 4]])"
      ]
     },
     "execution_count": 59,
     "metadata": {},
     "output_type": "execute_result"
    }
   ],
   "source": [
    "x = np.ones((3,4,5))\n",
    "x = np.moveaxis(x,[1,2],[0,-2])\n",
    "\n",
    "x = np.array([[1,2],[3,4]])\n",
    "y = np.swapaxes(x,0,1)\n",
    "y"
   ]
  },
  {
   "cell_type": "markdown",
   "metadata": {},
   "source": [
    "#### Number 17 Convert NumPy array to list"
   ]
  },
  {
   "cell_type": "code",
   "execution_count": 60,
   "metadata": {},
   "outputs": [
    {
     "data": {
      "text/plain": [
       "[[3, 4, 5, 9], [2, 6, 8, 0]]"
      ]
     },
     "execution_count": 60,
     "metadata": {},
     "output_type": "execute_result"
    }
   ],
   "source": [
    "x = np.array([[3,4,5,9],[2,6,8,0]])\n",
    "y = x.tolist()\n",
    "y"
   ]
  },
  {
   "cell_type": "markdown",
   "metadata": {},
   "source": [
    "#### Number 18 Change the data type of elements in the NumPy array."
   ]
  },
  {
   "cell_type": "code",
   "execution_count": 61,
   "metadata": {},
   "outputs": [
    {
     "data": {
      "text/plain": [
       "array([False,  True,  True,  True,  True])"
      ]
     },
     "execution_count": 61,
     "metadata": {},
     "output_type": "execute_result"
    }
   ],
   "source": [
    "x = np.array([0,1,2.0,2.0,4.2])\n",
    "y = x.astype(np.int16)\n",
    "\n",
    "z = x.astype(np.bool)\n",
    "z"
   ]
  },
  {
   "cell_type": "markdown",
   "metadata": {},
   "source": [
    "#### Number 19 Get indices of non-zero elements"
   ]
  },
  {
   "cell_type": "code",
   "execution_count": 62,
   "metadata": {},
   "outputs": [
    {
     "data": {
      "text/plain": [
       "(array([0, 1, 1]), array([1, 0, 1]))"
      ]
     },
     "execution_count": 62,
     "metadata": {},
     "output_type": "execute_result"
    }
   ],
   "source": [
    "x = np.array([0,1,2.0,2.0,4.2],dtype=np.float32)\n",
    "y = x.nonzero()\n",
    "y\n",
    "x = np.array([[0,1],[3,5]])\n",
    "y = x.nonzero()\n",
    "y"
   ]
  },
  {
   "cell_type": "markdown",
   "metadata": {},
   "source": [
    "#### Number 20  Sort NumPy array"
   ]
  },
  {
   "cell_type": "code",
   "execution_count": 63,
   "metadata": {},
   "outputs": [
    {
     "data": {
      "text/plain": [
       "array([[3, 4],\n",
       "       [2, 3]])"
      ]
     },
     "execution_count": 63,
     "metadata": {},
     "output_type": "execute_result"
    }
   ],
   "source": [
    "x = np.array([[4,3],[3,2]])\n",
    "\n",
    "y = np.sort(x, axis=1)\n",
    "y"
   ]
  },
  {
   "cell_type": "markdown",
   "metadata": {},
   "source": [
    "#### Number 21 Compare NumPy arrays to values"
   ]
  },
  {
   "cell_type": "code",
   "execution_count": 64,
   "metadata": {},
   "outputs": [
    {
     "data": {
      "text/plain": [
       "1"
      ]
     },
     "execution_count": 64,
     "metadata": {},
     "output_type": "execute_result"
    }
   ],
   "source": [
    "x = np.array([[0,1],[2,3]])\n",
    "y = (x == 1).astype(np.int16).sum()\n",
    "y"
   ]
  },
  {
   "cell_type": "markdown",
   "metadata": {},
   "source": [
    "#### Number 22 Multiply two NumPy matrices"
   ]
  },
  {
   "cell_type": "code",
   "execution_count": 65,
   "metadata": {},
   "outputs": [
    {
     "data": {
      "text/plain": [
       "array([[1., 0.],\n",
       "       [0., 4.]])"
      ]
     },
     "execution_count": 65,
     "metadata": {},
     "output_type": "execute_result"
    }
   ],
   "source": [
    "a = np.eye(2) #eye is an identity matrix, how fitting!\n",
    "\n",
    "b = np.array([[1,2],[3,4]])\n",
    "\n",
    "np.matmul(a,b)\n",
    "np.multiply(a,b)"
   ]
  },
  {
   "cell_type": "markdown",
   "metadata": {},
   "source": [
    "#### Number 23 Dot product of two arrays"
   ]
  },
  {
   "cell_type": "code",
   "execution_count": 66,
   "metadata": {},
   "outputs": [
    {
     "data": {
      "text/plain": [
       "array([[60]])"
      ]
     },
     "execution_count": 66,
     "metadata": {},
     "output_type": "execute_result"
    }
   ],
   "source": [
    "a = np.array([[1,2,3],[4,8,16]])\n",
    "b = np.array([5,6,11]).reshape(-1,1)\n",
    "np.dot(a,b)\n",
    "##I double checked my answer for the above and I got 50 and 244 both times so I am not sure if I got it wrong or the \n",
    "##example with the answer was right on the worksheet\n",
    "\n",
    "a = np.array([[1,2,3,4]])\n",
    "b = np.array([[4,5,6,7]]).reshape(-1,1)\n",
    "np.dot(a,b)"
   ]
  },
  {
   "cell_type": "markdown",
   "metadata": {},
   "source": [
    "#### Number 24 Get cross-product of two Numpy vectors"
   ]
  },
  {
   "cell_type": "code",
   "execution_count": 67,
   "metadata": {},
   "outputs": [
    {
     "data": {
      "text/plain": [
       "array([-3,  6, -3])"
      ]
     },
     "execution_count": 67,
     "metadata": {},
     "output_type": "execute_result"
    }
   ],
   "source": [
    "x = [1,2,3]\n",
    "y = [4,5,6]\n",
    "z = np.cross(x,y)\n",
    "z"
   ]
  },
  {
   "cell_type": "markdown",
   "metadata": {},
   "source": [
    "#### Number 25 Getting gradient of an array"
   ]
  },
  {
   "cell_type": "code",
   "execution_count": 68,
   "metadata": {},
   "outputs": [
    {
     "data": {
      "text/plain": [
       "array([5. , 4.5, 3.5, 2.5, 4.5, 7. ], dtype=float16)"
      ]
     },
     "execution_count": 68,
     "metadata": {},
     "output_type": "execute_result"
    }
   ],
   "source": [
    "##Runs the gradient using Taylor series and central difference method\n",
    "x = np.array([5,10,14,17,19,26], dtype=np.float16)\n",
    "np.gradient(x)"
   ]
  },
  {
   "cell_type": "markdown",
   "metadata": {},
   "source": [
    "#### Number 26 How to slice NumPy array"
   ]
  },
  {
   "cell_type": "code",
   "execution_count": 69,
   "metadata": {},
   "outputs": [
    {
     "data": {
      "text/plain": [
       "array([[2, 4],\n",
       "       [7, 8]])"
      ]
     },
     "execution_count": 69,
     "metadata": {},
     "output_type": "execute_result"
    }
   ],
   "source": [
    "x = np.array([[2,4,9],[3,1,5],[7,8,0]])\n",
    "##slice to get 2,4 7,8\n",
    "x[[0,0,2,2],[0,1,0,1]]\n",
    "##to get if rows and columns are continuous\n",
    "x[[0,2],0:2]\n",
    "#produces the same result"
   ]
  },
  {
   "cell_type": "markdown",
   "metadata": {},
   "source": [
    "#### Number 27 Broadcasting"
   ]
  },
  {
   "cell_type": "code",
   "execution_count": 70,
   "metadata": {},
   "outputs": [
    {
     "data": {
      "text/plain": [
       "array([[ 5,  8, 12],\n",
       "       [ 6,  8, 10],\n",
       "       [11, 10,  6]])"
      ]
     },
     "execution_count": 70,
     "metadata": {},
     "output_type": "execute_result"
    }
   ],
   "source": [
    "a = np.array([[3,5,8],[4,5,6],[9,7,2]])\n",
    "b = np.array([2,3,4])\n",
    "\n",
    "a+b"
   ]
  },
  {
   "cell_type": "markdown",
   "metadata": {},
   "source": [
    "## Pandas"
   ]
  },
  {
   "cell_type": "code",
   "execution_count": 71,
   "metadata": {},
   "outputs": [],
   "source": [
    "import pandas as pd\n",
    "from pandas import Series, DataFrame"
   ]
  },
  {
   "cell_type": "markdown",
   "metadata": {},
   "source": [
    "#### Number 1 How to read data from a CSV file or a text file?"
   ]
  },
  {
   "cell_type": "code",
   "execution_count": 32,
   "metadata": {},
   "outputs": [
    {
     "data": {
      "text/html": [
       "<div>\n",
       "<style scoped>\n",
       "    .dataframe tbody tr th:only-of-type {\n",
       "        vertical-align: middle;\n",
       "    }\n",
       "\n",
       "    .dataframe tbody tr th {\n",
       "        vertical-align: top;\n",
       "    }\n",
       "\n",
       "    .dataframe thead th {\n",
       "        text-align: right;\n",
       "    }\n",
       "</style>\n",
       "<table border=\"1\" class=\"dataframe\">\n",
       "  <thead>\n",
       "    <tr style=\"text-align: right;\">\n",
       "      <th></th>\n",
       "      <th>Votes</th>\n",
       "      <th>Rank</th>\n",
       "      <th>Title</th>\n",
       "      <th>Year</th>\n",
       "      <th>Decade</th>\n",
       "    </tr>\n",
       "  </thead>\n",
       "  <tbody>\n",
       "    <tr>\n",
       "      <td>0</td>\n",
       "      <td>88355</td>\n",
       "      <td>8.4</td>\n",
       "      <td>M (1931)</td>\n",
       "      <td>1931</td>\n",
       "      <td>1930</td>\n",
       "    </tr>\n",
       "    <tr>\n",
       "      <td>1</td>\n",
       "      <td>132823</td>\n",
       "      <td>8.3</td>\n",
       "      <td>Singin' in the Rain (1952)</td>\n",
       "      <td>1952</td>\n",
       "      <td>1950</td>\n",
       "    </tr>\n",
       "    <tr>\n",
       "      <td>2</td>\n",
       "      <td>74178</td>\n",
       "      <td>8.3</td>\n",
       "      <td>All About Eve (1950)</td>\n",
       "      <td>1950</td>\n",
       "      <td>1950</td>\n",
       "    </tr>\n",
       "    <tr>\n",
       "      <td>3</td>\n",
       "      <td>635139</td>\n",
       "      <td>8.6</td>\n",
       "      <td>Léon (1994)</td>\n",
       "      <td>1994</td>\n",
       "      <td>1990</td>\n",
       "    </tr>\n",
       "    <tr>\n",
       "      <td>4</td>\n",
       "      <td>145514</td>\n",
       "      <td>8.2</td>\n",
       "      <td>The Elephant Man (1980)</td>\n",
       "      <td>1980</td>\n",
       "      <td>1980</td>\n",
       "    </tr>\n",
       "    <tr>\n",
       "      <td>...</td>\n",
       "      <td>...</td>\n",
       "      <td>...</td>\n",
       "      <td>...</td>\n",
       "      <td>...</td>\n",
       "      <td>...</td>\n",
       "    </tr>\n",
       "    <tr>\n",
       "      <td>245</td>\n",
       "      <td>1078416</td>\n",
       "      <td>8.7</td>\n",
       "      <td>Forrest Gump (1994)</td>\n",
       "      <td>1994</td>\n",
       "      <td>1990</td>\n",
       "    </tr>\n",
       "    <tr>\n",
       "      <td>246</td>\n",
       "      <td>31003</td>\n",
       "      <td>8.1</td>\n",
       "      <td>Le salaire de la peur (1953)</td>\n",
       "      <td>1953</td>\n",
       "      <td>1950</td>\n",
       "    </tr>\n",
       "    <tr>\n",
       "      <td>247</td>\n",
       "      <td>167076</td>\n",
       "      <td>8.2</td>\n",
       "      <td>3 Idiots (2009)</td>\n",
       "      <td>2009</td>\n",
       "      <td>2000</td>\n",
       "    </tr>\n",
       "    <tr>\n",
       "      <td>248</td>\n",
       "      <td>91689</td>\n",
       "      <td>8.1</td>\n",
       "      <td>Network (1976)</td>\n",
       "      <td>1976</td>\n",
       "      <td>1970</td>\n",
       "    </tr>\n",
       "    <tr>\n",
       "      <td>249</td>\n",
       "      <td>589477</td>\n",
       "      <td>8.3</td>\n",
       "      <td>Eternal Sunshine of the Spotless Mind (2004)</td>\n",
       "      <td>2004</td>\n",
       "      <td>2000</td>\n",
       "    </tr>\n",
       "  </tbody>\n",
       "</table>\n",
       "<p>250 rows × 5 columns</p>\n",
       "</div>"
      ],
      "text/plain": [
       "       Votes  Rank                                         Title  Year  Decade\n",
       "0      88355   8.4                                      M (1931)  1931    1930\n",
       "1     132823   8.3                    Singin' in the Rain (1952)  1952    1950\n",
       "2      74178   8.3                          All About Eve (1950)  1950    1950\n",
       "3     635139   8.6                                   Léon (1994)  1994    1990\n",
       "4     145514   8.2                       The Elephant Man (1980)  1980    1980\n",
       "..       ...   ...                                           ...   ...     ...\n",
       "245  1078416   8.7                           Forrest Gump (1994)  1994    1990\n",
       "246    31003   8.1                  Le salaire de la peur (1953)  1953    1950\n",
       "247   167076   8.2                               3 Idiots (2009)  2009    2000\n",
       "248    91689   8.1                                Network (1976)  1976    1970\n",
       "249   589477   8.3  Eternal Sunshine of the Spotless Mind (2004)  2004    2000\n",
       "\n",
       "[250 rows x 5 columns]"
      ]
     },
     "execution_count": 32,
     "metadata": {},
     "output_type": "execute_result"
    }
   ],
   "source": [
    "df = pd.read_csv('imdb_ratings.csv', sep=',', header = 0, index_col=False, names=None)\n",
    "df"
   ]
  },
  {
   "cell_type": "markdown",
   "metadata": {},
   "source": [
    "#### Number 2 How to create a data frame using a dictionary of pre-existing columns?"
   ]
  },
  {
   "cell_type": "code",
   "execution_count": 10,
   "metadata": {},
   "outputs": [
    {
     "data": {
      "text/html": [
       "<div>\n",
       "<style scoped>\n",
       "    .dataframe tbody tr th:only-of-type {\n",
       "        vertical-align: middle;\n",
       "    }\n",
       "\n",
       "    .dataframe tbody tr th {\n",
       "        vertical-align: top;\n",
       "    }\n",
       "\n",
       "    .dataframe thead th {\n",
       "        text-align: right;\n",
       "    }\n",
       "</style>\n",
       "<table border=\"1\" class=\"dataframe\">\n",
       "  <thead>\n",
       "    <tr style=\"text-align: right;\">\n",
       "      <th></th>\n",
       "      <th>Votes</th>\n",
       "      <th>Rank</th>\n",
       "      <th>Title</th>\n",
       "      <th>Year</th>\n",
       "      <th>Decade</th>\n",
       "    </tr>\n",
       "  </thead>\n",
       "  <tbody>\n",
       "    <tr>\n",
       "      <td>0</td>\n",
       "      <td>88355</td>\n",
       "      <td>8.4</td>\n",
       "      <td>M (1931)</td>\n",
       "      <td>1931</td>\n",
       "      <td>1930</td>\n",
       "    </tr>\n",
       "    <tr>\n",
       "      <td>1</td>\n",
       "      <td>132823</td>\n",
       "      <td>8.3</td>\n",
       "      <td>Singin' in the Rain (1952)</td>\n",
       "      <td>1952</td>\n",
       "      <td>1950</td>\n",
       "    </tr>\n",
       "    <tr>\n",
       "      <td>2</td>\n",
       "      <td>74178</td>\n",
       "      <td>8.3</td>\n",
       "      <td>All About Eve (1950)</td>\n",
       "      <td>1950</td>\n",
       "      <td>1950</td>\n",
       "    </tr>\n",
       "    <tr>\n",
       "      <td>3</td>\n",
       "      <td>635139</td>\n",
       "      <td>8.6</td>\n",
       "      <td>Léon (1994)</td>\n",
       "      <td>1994</td>\n",
       "      <td>1990</td>\n",
       "    </tr>\n",
       "    <tr>\n",
       "      <td>4</td>\n",
       "      <td>145514</td>\n",
       "      <td>8.2</td>\n",
       "      <td>The Elephant Man (1980)</td>\n",
       "      <td>1980</td>\n",
       "      <td>1980</td>\n",
       "    </tr>\n",
       "    <tr>\n",
       "      <td>...</td>\n",
       "      <td>...</td>\n",
       "      <td>...</td>\n",
       "      <td>...</td>\n",
       "      <td>...</td>\n",
       "      <td>...</td>\n",
       "    </tr>\n",
       "    <tr>\n",
       "      <td>245</td>\n",
       "      <td>1078416</td>\n",
       "      <td>8.7</td>\n",
       "      <td>Forrest Gump (1994)</td>\n",
       "      <td>1994</td>\n",
       "      <td>1990</td>\n",
       "    </tr>\n",
       "    <tr>\n",
       "      <td>246</td>\n",
       "      <td>31003</td>\n",
       "      <td>8.1</td>\n",
       "      <td>Le salaire de la peur (1953)</td>\n",
       "      <td>1953</td>\n",
       "      <td>1950</td>\n",
       "    </tr>\n",
       "    <tr>\n",
       "      <td>247</td>\n",
       "      <td>167076</td>\n",
       "      <td>8.2</td>\n",
       "      <td>3 Idiots (2009)</td>\n",
       "      <td>2009</td>\n",
       "      <td>2000</td>\n",
       "    </tr>\n",
       "    <tr>\n",
       "      <td>248</td>\n",
       "      <td>91689</td>\n",
       "      <td>8.1</td>\n",
       "      <td>Network (1976)</td>\n",
       "      <td>1976</td>\n",
       "      <td>1970</td>\n",
       "    </tr>\n",
       "    <tr>\n",
       "      <td>249</td>\n",
       "      <td>589477</td>\n",
       "      <td>8.3</td>\n",
       "      <td>Eternal Sunshine of the Spotless Mind (2004)</td>\n",
       "      <td>2004</td>\n",
       "      <td>2000</td>\n",
       "    </tr>\n",
       "  </tbody>\n",
       "</table>\n",
       "<p>250 rows × 5 columns</p>\n",
       "</div>"
      ],
      "text/plain": [
       "       Votes  Rank                                         Title  Year  Decade\n",
       "0      88355   8.4                                      M (1931)  1931    1930\n",
       "1     132823   8.3                    Singin' in the Rain (1952)  1952    1950\n",
       "2      74178   8.3                          All About Eve (1950)  1950    1950\n",
       "3     635139   8.6                                   Léon (1994)  1994    1990\n",
       "4     145514   8.2                       The Elephant Man (1980)  1980    1980\n",
       "..       ...   ...                                           ...   ...     ...\n",
       "245  1078416   8.7                           Forrest Gump (1994)  1994    1990\n",
       "246    31003   8.1                  Le salaire de la peur (1953)  1953    1950\n",
       "247   167076   8.2                               3 Idiots (2009)  2009    2000\n",
       "248    91689   8.1                                Network (1976)  1976    1970\n",
       "249   589477   8.3  Eternal Sunshine of the Spotless Mind (2004)  2004    2000\n",
       "\n",
       "[250 rows x 5 columns]"
      ]
     },
     "execution_count": 10,
     "metadata": {},
     "output_type": "execute_result"
    }
   ],
   "source": [
    "#d_dic ={'Votes':Votes, 'Rank':Rank,'Title':Title,'Year':Year,'Decade':Decade} \n",
    "#df = pd.DataFrame(data = d_dic)\n",
    "df = pd.DataFrame(df, columns = ['Votes', 'Rank','Title','Year','Decade'])\n",
    "df"
   ]
  },
  {
   "cell_type": "markdown",
   "metadata": {},
   "source": [
    "#### Number 3 How to visualize the top and bottom x values in a data frame?"
   ]
  },
  {
   "cell_type": "code",
   "execution_count": 11,
   "metadata": {},
   "outputs": [
    {
     "data": {
      "text/html": [
       "<div>\n",
       "<style scoped>\n",
       "    .dataframe tbody tr th:only-of-type {\n",
       "        vertical-align: middle;\n",
       "    }\n",
       "\n",
       "    .dataframe tbody tr th {\n",
       "        vertical-align: top;\n",
       "    }\n",
       "\n",
       "    .dataframe thead th {\n",
       "        text-align: right;\n",
       "    }\n",
       "</style>\n",
       "<table border=\"1\" class=\"dataframe\">\n",
       "  <thead>\n",
       "    <tr style=\"text-align: right;\">\n",
       "      <th></th>\n",
       "      <th>Votes</th>\n",
       "      <th>Rank</th>\n",
       "      <th>Title</th>\n",
       "      <th>Year</th>\n",
       "      <th>Decade</th>\n",
       "    </tr>\n",
       "  </thead>\n",
       "  <tbody>\n",
       "    <tr>\n",
       "      <td>0</td>\n",
       "      <td>88355</td>\n",
       "      <td>8.4</td>\n",
       "      <td>M (1931)</td>\n",
       "      <td>1931</td>\n",
       "      <td>1930</td>\n",
       "    </tr>\n",
       "    <tr>\n",
       "      <td>1</td>\n",
       "      <td>132823</td>\n",
       "      <td>8.3</td>\n",
       "      <td>Singin' in the Rain (1952)</td>\n",
       "      <td>1952</td>\n",
       "      <td>1950</td>\n",
       "    </tr>\n",
       "    <tr>\n",
       "      <td>2</td>\n",
       "      <td>74178</td>\n",
       "      <td>8.3</td>\n",
       "      <td>All About Eve (1950)</td>\n",
       "      <td>1950</td>\n",
       "      <td>1950</td>\n",
       "    </tr>\n",
       "    <tr>\n",
       "      <td>3</td>\n",
       "      <td>635139</td>\n",
       "      <td>8.6</td>\n",
       "      <td>Léon (1994)</td>\n",
       "      <td>1994</td>\n",
       "      <td>1990</td>\n",
       "    </tr>\n",
       "    <tr>\n",
       "      <td>4</td>\n",
       "      <td>145514</td>\n",
       "      <td>8.2</td>\n",
       "      <td>The Elephant Man (1980)</td>\n",
       "      <td>1980</td>\n",
       "      <td>1980</td>\n",
       "    </tr>\n",
       "    <tr>\n",
       "      <td>5</td>\n",
       "      <td>425461</td>\n",
       "      <td>8.3</td>\n",
       "      <td>Full Metal Jacket (1987)</td>\n",
       "      <td>1987</td>\n",
       "      <td>1980</td>\n",
       "    </tr>\n",
       "    <tr>\n",
       "      <td>6</td>\n",
       "      <td>441174</td>\n",
       "      <td>8.1</td>\n",
       "      <td>Gone Girl (2014)</td>\n",
       "      <td>2014</td>\n",
       "      <td>2010</td>\n",
       "    </tr>\n",
       "    <tr>\n",
       "      <td>7</td>\n",
       "      <td>850601</td>\n",
       "      <td>8.3</td>\n",
       "      <td>Batman Begins (2005)</td>\n",
       "      <td>2005</td>\n",
       "      <td>2000</td>\n",
       "    </tr>\n",
       "    <tr>\n",
       "      <td>8</td>\n",
       "      <td>37664</td>\n",
       "      <td>8.2</td>\n",
       "      <td>Judgment at Nuremberg (1961)</td>\n",
       "      <td>1961</td>\n",
       "      <td>1960</td>\n",
       "    </tr>\n",
       "    <tr>\n",
       "      <td>9</td>\n",
       "      <td>46987</td>\n",
       "      <td>8.0</td>\n",
       "      <td>Relatos salvajes (2014)</td>\n",
       "      <td>2014</td>\n",
       "      <td>2010</td>\n",
       "    </tr>\n",
       "  </tbody>\n",
       "</table>\n",
       "</div>"
      ],
      "text/plain": [
       "    Votes  Rank                         Title  Year  Decade\n",
       "0   88355   8.4                      M (1931)  1931    1930\n",
       "1  132823   8.3    Singin' in the Rain (1952)  1952    1950\n",
       "2   74178   8.3          All About Eve (1950)  1950    1950\n",
       "3  635139   8.6                   Léon (1994)  1994    1990\n",
       "4  145514   8.2       The Elephant Man (1980)  1980    1980\n",
       "5  425461   8.3      Full Metal Jacket (1987)  1987    1980\n",
       "6  441174   8.1              Gone Girl (2014)  2014    2010\n",
       "7  850601   8.3          Batman Begins (2005)  2005    2000\n",
       "8   37664   8.2  Judgment at Nuremberg (1961)  1961    1960\n",
       "9   46987   8.0       Relatos salvajes (2014)  2014    2010"
      ]
     },
     "execution_count": 11,
     "metadata": {},
     "output_type": "execute_result"
    }
   ],
   "source": [
    "df.head(10)\n",
    "df.tail(10)\n",
    "\n",
    "col = df.columns\n",
    "\n",
    "df[col].head(10)"
   ]
  },
  {
   "cell_type": "markdown",
   "metadata": {},
   "source": [
    "#### Number 4 How to rename one or more columns?"
   ]
  },
  {
   "cell_type": "code",
   "execution_count": 13,
   "metadata": {},
   "outputs": [
    {
     "data": {
      "text/html": [
       "<div>\n",
       "<style scoped>\n",
       "    .dataframe tbody tr th:only-of-type {\n",
       "        vertical-align: middle;\n",
       "    }\n",
       "\n",
       "    .dataframe tbody tr th {\n",
       "        vertical-align: top;\n",
       "    }\n",
       "\n",
       "    .dataframe thead th {\n",
       "        text-align: right;\n",
       "    }\n",
       "</style>\n",
       "<table border=\"1\" class=\"dataframe\">\n",
       "  <thead>\n",
       "    <tr style=\"text-align: right;\">\n",
       "      <th></th>\n",
       "      <th>Votes</th>\n",
       "      <th>Rank</th>\n",
       "      <th>Title</th>\n",
       "      <th>Year</th>\n",
       "      <th>Decade</th>\n",
       "    </tr>\n",
       "  </thead>\n",
       "  <tbody>\n",
       "    <tr>\n",
       "      <td>0</td>\n",
       "      <td>88355</td>\n",
       "      <td>8.4</td>\n",
       "      <td>M (1931)</td>\n",
       "      <td>1931</td>\n",
       "      <td>1930</td>\n",
       "    </tr>\n",
       "    <tr>\n",
       "      <td>1</td>\n",
       "      <td>132823</td>\n",
       "      <td>8.3</td>\n",
       "      <td>Singin' in the Rain (1952)</td>\n",
       "      <td>1952</td>\n",
       "      <td>1950</td>\n",
       "    </tr>\n",
       "    <tr>\n",
       "      <td>2</td>\n",
       "      <td>74178</td>\n",
       "      <td>8.3</td>\n",
       "      <td>All About Eve (1950)</td>\n",
       "      <td>1950</td>\n",
       "      <td>1950</td>\n",
       "    </tr>\n",
       "    <tr>\n",
       "      <td>3</td>\n",
       "      <td>635139</td>\n",
       "      <td>8.6</td>\n",
       "      <td>Léon (1994)</td>\n",
       "      <td>1994</td>\n",
       "      <td>1990</td>\n",
       "    </tr>\n",
       "    <tr>\n",
       "      <td>4</td>\n",
       "      <td>145514</td>\n",
       "      <td>8.2</td>\n",
       "      <td>The Elephant Man (1980)</td>\n",
       "      <td>1980</td>\n",
       "      <td>1980</td>\n",
       "    </tr>\n",
       "    <tr>\n",
       "      <td>...</td>\n",
       "      <td>...</td>\n",
       "      <td>...</td>\n",
       "      <td>...</td>\n",
       "      <td>...</td>\n",
       "      <td>...</td>\n",
       "    </tr>\n",
       "    <tr>\n",
       "      <td>245</td>\n",
       "      <td>1078416</td>\n",
       "      <td>8.7</td>\n",
       "      <td>Forrest Gump (1994)</td>\n",
       "      <td>1994</td>\n",
       "      <td>1990</td>\n",
       "    </tr>\n",
       "    <tr>\n",
       "      <td>246</td>\n",
       "      <td>31003</td>\n",
       "      <td>8.1</td>\n",
       "      <td>Le salaire de la peur (1953)</td>\n",
       "      <td>1953</td>\n",
       "      <td>1950</td>\n",
       "    </tr>\n",
       "    <tr>\n",
       "      <td>247</td>\n",
       "      <td>167076</td>\n",
       "      <td>8.2</td>\n",
       "      <td>3 Idiots (2009)</td>\n",
       "      <td>2009</td>\n",
       "      <td>2000</td>\n",
       "    </tr>\n",
       "    <tr>\n",
       "      <td>248</td>\n",
       "      <td>91689</td>\n",
       "      <td>8.1</td>\n",
       "      <td>Network (1976)</td>\n",
       "      <td>1976</td>\n",
       "      <td>1970</td>\n",
       "    </tr>\n",
       "    <tr>\n",
       "      <td>249</td>\n",
       "      <td>589477</td>\n",
       "      <td>8.3</td>\n",
       "      <td>Eternal Sunshine of the Spotless Mind (2004)</td>\n",
       "      <td>2004</td>\n",
       "      <td>2000</td>\n",
       "    </tr>\n",
       "  </tbody>\n",
       "</table>\n",
       "<p>250 rows × 5 columns</p>\n",
       "</div>"
      ],
      "text/plain": [
       "       Votes  Rank                                         Title  Year  Decade\n",
       "0      88355   8.4                                      M (1931)  1931    1930\n",
       "1     132823   8.3                    Singin' in the Rain (1952)  1952    1950\n",
       "2      74178   8.3                          All About Eve (1950)  1950    1950\n",
       "3     635139   8.6                                   Léon (1994)  1994    1990\n",
       "4     145514   8.2                       The Elephant Man (1980)  1980    1980\n",
       "..       ...   ...                                           ...   ...     ...\n",
       "245  1078416   8.7                           Forrest Gump (1994)  1994    1990\n",
       "246    31003   8.1                  Le salaire de la peur (1953)  1953    1950\n",
       "247   167076   8.2                               3 Idiots (2009)  2009    2000\n",
       "248    91689   8.1                                Network (1976)  1976    1970\n",
       "249   589477   8.3  Eternal Sunshine of the Spotless Mind (2004)  2004    2000\n",
       "\n",
       "[250 rows x 5 columns]"
      ]
     },
     "execution_count": 13,
     "metadata": {},
     "output_type": "execute_result"
    }
   ],
   "source": [
    "new_df = df.rename({'Rank':'Best'})\n",
    "new_df"
   ]
  },
  {
   "cell_type": "markdown",
   "metadata": {},
   "source": [
    "#### Number 5 How to get column names in a list?"
   ]
  },
  {
   "cell_type": "code",
   "execution_count": 14,
   "metadata": {},
   "outputs": [
    {
     "data": {
      "text/plain": [
       "['Votes', 'Rank', 'Title', 'Year', 'Decade']"
      ]
     },
     "execution_count": 14,
     "metadata": {},
     "output_type": "execute_result"
    }
   ],
   "source": [
    "df.columns.tolist()"
   ]
  },
  {
   "cell_type": "markdown",
   "metadata": {},
   "source": [
    "#### Number 6 How to get the frequency of values in a series?"
   ]
  },
  {
   "cell_type": "code",
   "execution_count": 15,
   "metadata": {},
   "outputs": [
    {
     "data": {
      "text/plain": [
       "Votes     250\n",
       "Rank      250\n",
       "Title     250\n",
       "Year      250\n",
       "Decade    250\n",
       "dtype: int64"
      ]
     },
     "execution_count": 15,
     "metadata": {},
     "output_type": "execute_result"
    }
   ],
   "source": [
    "#df[col].value_counts() -> error 'DataFrame' object has no attribute 'value_counts'\n",
    "df.apply(pd.value_counts).fillna(0)\n",
    "#df[col].apply(pd.Series.value_counts)\n",
    "df[col].count()"
   ]
  },
  {
   "cell_type": "markdown",
   "metadata": {},
   "source": [
    "#### Number 7 How to reset an index to an existing column or another list or array?"
   ]
  },
  {
   "cell_type": "code",
   "execution_count": 16,
   "metadata": {},
   "outputs": [
    {
     "data": {
      "text/html": [
       "<div>\n",
       "<style scoped>\n",
       "    .dataframe tbody tr th:only-of-type {\n",
       "        vertical-align: middle;\n",
       "    }\n",
       "\n",
       "    .dataframe tbody tr th {\n",
       "        vertical-align: top;\n",
       "    }\n",
       "\n",
       "    .dataframe thead th {\n",
       "        text-align: right;\n",
       "    }\n",
       "</style>\n",
       "<table border=\"1\" class=\"dataframe\">\n",
       "  <thead>\n",
       "    <tr style=\"text-align: right;\">\n",
       "      <th></th>\n",
       "      <th>Votes</th>\n",
       "      <th>Rank</th>\n",
       "      <th>Title</th>\n",
       "      <th>Year</th>\n",
       "      <th>Decade</th>\n",
       "    </tr>\n",
       "  </thead>\n",
       "  <tbody>\n",
       "    <tr>\n",
       "      <td>0</td>\n",
       "      <td>88355</td>\n",
       "      <td>8.4</td>\n",
       "      <td>M (1931)</td>\n",
       "      <td>1931</td>\n",
       "      <td>1930</td>\n",
       "    </tr>\n",
       "    <tr>\n",
       "      <td>1</td>\n",
       "      <td>132823</td>\n",
       "      <td>8.3</td>\n",
       "      <td>Singin' in the Rain (1952)</td>\n",
       "      <td>1952</td>\n",
       "      <td>1950</td>\n",
       "    </tr>\n",
       "    <tr>\n",
       "      <td>2</td>\n",
       "      <td>74178</td>\n",
       "      <td>8.3</td>\n",
       "      <td>All About Eve (1950)</td>\n",
       "      <td>1950</td>\n",
       "      <td>1950</td>\n",
       "    </tr>\n",
       "    <tr>\n",
       "      <td>3</td>\n",
       "      <td>635139</td>\n",
       "      <td>8.6</td>\n",
       "      <td>Léon (1994)</td>\n",
       "      <td>1994</td>\n",
       "      <td>1990</td>\n",
       "    </tr>\n",
       "    <tr>\n",
       "      <td>4</td>\n",
       "      <td>145514</td>\n",
       "      <td>8.2</td>\n",
       "      <td>The Elephant Man (1980)</td>\n",
       "      <td>1980</td>\n",
       "      <td>1980</td>\n",
       "    </tr>\n",
       "    <tr>\n",
       "      <td>...</td>\n",
       "      <td>...</td>\n",
       "      <td>...</td>\n",
       "      <td>...</td>\n",
       "      <td>...</td>\n",
       "      <td>...</td>\n",
       "    </tr>\n",
       "    <tr>\n",
       "      <td>245</td>\n",
       "      <td>1078416</td>\n",
       "      <td>8.7</td>\n",
       "      <td>Forrest Gump (1994)</td>\n",
       "      <td>1994</td>\n",
       "      <td>1990</td>\n",
       "    </tr>\n",
       "    <tr>\n",
       "      <td>246</td>\n",
       "      <td>31003</td>\n",
       "      <td>8.1</td>\n",
       "      <td>Le salaire de la peur (1953)</td>\n",
       "      <td>1953</td>\n",
       "      <td>1950</td>\n",
       "    </tr>\n",
       "    <tr>\n",
       "      <td>247</td>\n",
       "      <td>167076</td>\n",
       "      <td>8.2</td>\n",
       "      <td>3 Idiots (2009)</td>\n",
       "      <td>2009</td>\n",
       "      <td>2000</td>\n",
       "    </tr>\n",
       "    <tr>\n",
       "      <td>248</td>\n",
       "      <td>91689</td>\n",
       "      <td>8.1</td>\n",
       "      <td>Network (1976)</td>\n",
       "      <td>1976</td>\n",
       "      <td>1970</td>\n",
       "    </tr>\n",
       "    <tr>\n",
       "      <td>249</td>\n",
       "      <td>589477</td>\n",
       "      <td>8.3</td>\n",
       "      <td>Eternal Sunshine of the Spotless Mind (2004)</td>\n",
       "      <td>2004</td>\n",
       "      <td>2000</td>\n",
       "    </tr>\n",
       "  </tbody>\n",
       "</table>\n",
       "<p>250 rows × 5 columns</p>\n",
       "</div>"
      ],
      "text/plain": [
       "       Votes  Rank                                         Title  Year  Decade\n",
       "0      88355   8.4                                      M (1931)  1931    1930\n",
       "1     132823   8.3                    Singin' in the Rain (1952)  1952    1950\n",
       "2      74178   8.3                          All About Eve (1950)  1950    1950\n",
       "3     635139   8.6                                   Léon (1994)  1994    1990\n",
       "4     145514   8.2                       The Elephant Man (1980)  1980    1980\n",
       "..       ...   ...                                           ...   ...     ...\n",
       "245  1078416   8.7                           Forrest Gump (1994)  1994    1990\n",
       "246    31003   8.1                  Le salaire de la peur (1953)  1953    1950\n",
       "247   167076   8.2                               3 Idiots (2009)  2009    2000\n",
       "248    91689   8.1                                Network (1976)  1976    1970\n",
       "249   589477   8.3  Eternal Sunshine of the Spotless Mind (2004)  2004    2000\n",
       "\n",
       "[250 rows x 5 columns]"
      ]
     },
     "execution_count": 16,
     "metadata": {},
     "output_type": "execute_result"
    }
   ],
   "source": [
    "new_df = df.reset_index(drop=True,inplace=False)\n",
    "new_df"
   ]
  },
  {
   "cell_type": "markdown",
   "metadata": {},
   "source": [
    "#### Number 8 How to remove a column?"
   ]
  },
  {
   "cell_type": "code",
   "execution_count": 17,
   "metadata": {},
   "outputs": [
    {
     "data": {
      "text/html": [
       "<div>\n",
       "<style scoped>\n",
       "    .dataframe tbody tr th:only-of-type {\n",
       "        vertical-align: middle;\n",
       "    }\n",
       "\n",
       "    .dataframe tbody tr th {\n",
       "        vertical-align: top;\n",
       "    }\n",
       "\n",
       "    .dataframe thead th {\n",
       "        text-align: right;\n",
       "    }\n",
       "</style>\n",
       "<table border=\"1\" class=\"dataframe\">\n",
       "  <thead>\n",
       "    <tr style=\"text-align: right;\">\n",
       "      <th></th>\n",
       "      <th>Votes</th>\n",
       "      <th>Rank</th>\n",
       "      <th>Title</th>\n",
       "      <th>Year</th>\n",
       "    </tr>\n",
       "  </thead>\n",
       "  <tbody>\n",
       "    <tr>\n",
       "      <td>0</td>\n",
       "      <td>88355</td>\n",
       "      <td>8.4</td>\n",
       "      <td>M (1931)</td>\n",
       "      <td>1931</td>\n",
       "    </tr>\n",
       "    <tr>\n",
       "      <td>1</td>\n",
       "      <td>132823</td>\n",
       "      <td>8.3</td>\n",
       "      <td>Singin' in the Rain (1952)</td>\n",
       "      <td>1952</td>\n",
       "    </tr>\n",
       "    <tr>\n",
       "      <td>2</td>\n",
       "      <td>74178</td>\n",
       "      <td>8.3</td>\n",
       "      <td>All About Eve (1950)</td>\n",
       "      <td>1950</td>\n",
       "    </tr>\n",
       "    <tr>\n",
       "      <td>3</td>\n",
       "      <td>635139</td>\n",
       "      <td>8.6</td>\n",
       "      <td>Léon (1994)</td>\n",
       "      <td>1994</td>\n",
       "    </tr>\n",
       "    <tr>\n",
       "      <td>4</td>\n",
       "      <td>145514</td>\n",
       "      <td>8.2</td>\n",
       "      <td>The Elephant Man (1980)</td>\n",
       "      <td>1980</td>\n",
       "    </tr>\n",
       "    <tr>\n",
       "      <td>...</td>\n",
       "      <td>...</td>\n",
       "      <td>...</td>\n",
       "      <td>...</td>\n",
       "      <td>...</td>\n",
       "    </tr>\n",
       "    <tr>\n",
       "      <td>245</td>\n",
       "      <td>1078416</td>\n",
       "      <td>8.7</td>\n",
       "      <td>Forrest Gump (1994)</td>\n",
       "      <td>1994</td>\n",
       "    </tr>\n",
       "    <tr>\n",
       "      <td>246</td>\n",
       "      <td>31003</td>\n",
       "      <td>8.1</td>\n",
       "      <td>Le salaire de la peur (1953)</td>\n",
       "      <td>1953</td>\n",
       "    </tr>\n",
       "    <tr>\n",
       "      <td>247</td>\n",
       "      <td>167076</td>\n",
       "      <td>8.2</td>\n",
       "      <td>3 Idiots (2009)</td>\n",
       "      <td>2009</td>\n",
       "    </tr>\n",
       "    <tr>\n",
       "      <td>248</td>\n",
       "      <td>91689</td>\n",
       "      <td>8.1</td>\n",
       "      <td>Network (1976)</td>\n",
       "      <td>1976</td>\n",
       "    </tr>\n",
       "    <tr>\n",
       "      <td>249</td>\n",
       "      <td>589477</td>\n",
       "      <td>8.3</td>\n",
       "      <td>Eternal Sunshine of the Spotless Mind (2004)</td>\n",
       "      <td>2004</td>\n",
       "    </tr>\n",
       "  </tbody>\n",
       "</table>\n",
       "<p>250 rows × 4 columns</p>\n",
       "</div>"
      ],
      "text/plain": [
       "       Votes  Rank                                         Title  Year\n",
       "0      88355   8.4                                      M (1931)  1931\n",
       "1     132823   8.3                    Singin' in the Rain (1952)  1952\n",
       "2      74178   8.3                          All About Eve (1950)  1950\n",
       "3     635139   8.6                                   Léon (1994)  1994\n",
       "4     145514   8.2                       The Elephant Man (1980)  1980\n",
       "..       ...   ...                                           ...   ...\n",
       "245  1078416   8.7                           Forrest Gump (1994)  1994\n",
       "246    31003   8.1                  Le salaire de la peur (1953)  1953\n",
       "247   167076   8.2                               3 Idiots (2009)  2009\n",
       "248    91689   8.1                                Network (1976)  1976\n",
       "249   589477   8.3  Eternal Sunshine of the Spotless Mind (2004)  2004\n",
       "\n",
       "[250 rows x 4 columns]"
      ]
     },
     "execution_count": 17,
     "metadata": {},
     "output_type": "execute_result"
    }
   ],
   "source": [
    "df.drop(columns = 'Decade')"
   ]
  },
  {
   "cell_type": "markdown",
   "metadata": {},
   "source": [
    "#### Number 9 How to change the index in a data frame?"
   ]
  },
  {
   "cell_type": "code",
   "execution_count": 22,
   "metadata": {},
   "outputs": [],
   "source": [
    "df.set_index('Votes',inplace = True)"
   ]
  },
  {
   "cell_type": "markdown",
   "metadata": {},
   "source": [
    "#### Number 10 How to remove rows or columns if they have nan values?"
   ]
  },
  {
   "cell_type": "code",
   "execution_count": 23,
   "metadata": {},
   "outputs": [],
   "source": [
    "df.dropna(axis=0,inplace = True)"
   ]
  },
  {
   "cell_type": "markdown",
   "metadata": {},
   "source": [
    "#### Number 11 How to slice a data frame given a condition?"
   ]
  },
  {
   "cell_type": "code",
   "execution_count": 26,
   "metadata": {},
   "outputs": [
    {
     "data": {
      "text/html": [
       "<div>\n",
       "<style scoped>\n",
       "    .dataframe tbody tr th:only-of-type {\n",
       "        vertical-align: middle;\n",
       "    }\n",
       "\n",
       "    .dataframe tbody tr th {\n",
       "        vertical-align: top;\n",
       "    }\n",
       "\n",
       "    .dataframe thead th {\n",
       "        text-align: right;\n",
       "    }\n",
       "</style>\n",
       "<table border=\"1\" class=\"dataframe\">\n",
       "  <thead>\n",
       "    <tr style=\"text-align: right;\">\n",
       "      <th></th>\n",
       "      <th>Votes</th>\n",
       "      <th>Rank</th>\n",
       "      <th>Title</th>\n",
       "      <th>Year</th>\n",
       "      <th>Decade</th>\n",
       "    </tr>\n",
       "  </thead>\n",
       "  <tbody>\n",
       "    <tr>\n",
       "      <td>0</td>\n",
       "      <td>88355</td>\n",
       "      <td>8.4</td>\n",
       "      <td>M (1931)</td>\n",
       "      <td>1931</td>\n",
       "      <td>1930</td>\n",
       "    </tr>\n",
       "    <tr>\n",
       "      <td>15</td>\n",
       "      <td>192165</td>\n",
       "      <td>8.4</td>\n",
       "      <td>Mononoke-hime (1997)</td>\n",
       "      <td>1997</td>\n",
       "      <td>1990</td>\n",
       "    </tr>\n",
       "    <tr>\n",
       "      <td>19</td>\n",
       "      <td>229533</td>\n",
       "      <td>8.4</td>\n",
       "      <td>Das Leben der Anderen (2006)</td>\n",
       "      <td>2006</td>\n",
       "      <td>2000</td>\n",
       "    </tr>\n",
       "    <tr>\n",
       "      <td>38</td>\n",
       "      <td>532559</td>\n",
       "      <td>8.4</td>\n",
       "      <td>The Shining (1980)</td>\n",
       "      <td>1980</td>\n",
       "      <td>1980</td>\n",
       "    </tr>\n",
       "    <tr>\n",
       "      <td>58</td>\n",
       "      <td>195266</td>\n",
       "      <td>8.4</td>\n",
       "      <td>Once Upon a Time in America (1984)</td>\n",
       "      <td>1984</td>\n",
       "      <td>1980</td>\n",
       "    </tr>\n",
       "    <tr>\n",
       "      <td>82</td>\n",
       "      <td>198795</td>\n",
       "      <td>8.4</td>\n",
       "      <td>North by Northwest (1959)</td>\n",
       "      <td>1959</td>\n",
       "      <td>1950</td>\n",
       "    </tr>\n",
       "    <tr>\n",
       "      <td>84</td>\n",
       "      <td>556811</td>\n",
       "      <td>8.4</td>\n",
       "      <td>Star Wars: Episode VI - Return of the Jedi (1983)</td>\n",
       "      <td>1983</td>\n",
       "      <td>1980</td>\n",
       "    </tr>\n",
       "    <tr>\n",
       "      <td>95</td>\n",
       "      <td>436218</td>\n",
       "      <td>8.4</td>\n",
       "      <td>Aliens (1986)</td>\n",
       "      <td>1986</td>\n",
       "      <td>1980</td>\n",
       "    </tr>\n",
       "    <tr>\n",
       "      <td>99</td>\n",
       "      <td>474068</td>\n",
       "      <td>8.4</td>\n",
       "      <td>Le fabuleux destin d'Amélie Poulain (2001)</td>\n",
       "      <td>2001</td>\n",
       "      <td>2000</td>\n",
       "    </tr>\n",
       "    <tr>\n",
       "      <td>104</td>\n",
       "      <td>735056</td>\n",
       "      <td>8.4</td>\n",
       "      <td>American Beauty (1999)</td>\n",
       "      <td>1999</td>\n",
       "      <td>1990</td>\n",
       "    </tr>\n",
       "    <tr>\n",
       "      <td>113</td>\n",
       "      <td>804729</td>\n",
       "      <td>8.4</td>\n",
       "      <td>Django Unchained (2012)</td>\n",
       "      <td>2012</td>\n",
       "      <td>2010</td>\n",
       "    </tr>\n",
       "    <tr>\n",
       "      <td>162</td>\n",
       "      <td>115740</td>\n",
       "      <td>8.4</td>\n",
       "      <td>Hotaru no haka (1988)</td>\n",
       "      <td>1988</td>\n",
       "      <td>1980</td>\n",
       "    </tr>\n",
       "    <tr>\n",
       "      <td>186</td>\n",
       "      <td>106038</td>\n",
       "      <td>8.4</td>\n",
       "      <td>Paths of Glory (1957)</td>\n",
       "      <td>1957</td>\n",
       "      <td>1950</td>\n",
       "    </tr>\n",
       "    <tr>\n",
       "      <td>195</td>\n",
       "      <td>218430</td>\n",
       "      <td>8.4</td>\n",
       "      <td>Vertigo (1958)</td>\n",
       "      <td>1958</td>\n",
       "      <td>1950</td>\n",
       "    </tr>\n",
       "    <tr>\n",
       "      <td>202</td>\n",
       "      <td>548750</td>\n",
       "      <td>8.4</td>\n",
       "      <td>The Lion King (1994)</td>\n",
       "      <td>1994</td>\n",
       "      <td>1990</td>\n",
       "    </tr>\n",
       "    <tr>\n",
       "      <td>211</td>\n",
       "      <td>997350</td>\n",
       "      <td>8.4</td>\n",
       "      <td>The Dark Knight Rises (2012)</td>\n",
       "      <td>2012</td>\n",
       "      <td>2010</td>\n",
       "    </tr>\n",
       "    <tr>\n",
       "      <td>220</td>\n",
       "      <td>132121</td>\n",
       "      <td>8.4</td>\n",
       "      <td>Nuovo Cinema Paradiso (1988)</td>\n",
       "      <td>1988</td>\n",
       "      <td>1980</td>\n",
       "    </tr>\n",
       "    <tr>\n",
       "      <td>230</td>\n",
       "      <td>618914</td>\n",
       "      <td>8.4</td>\n",
       "      <td>WALL·E (2008)</td>\n",
       "      <td>2008</td>\n",
       "      <td>2000</td>\n",
       "    </tr>\n",
       "    <tr>\n",
       "      <td>231</td>\n",
       "      <td>151256</td>\n",
       "      <td>8.4</td>\n",
       "      <td>Das Boot (1981)</td>\n",
       "      <td>1981</td>\n",
       "      <td>1980</td>\n",
       "    </tr>\n",
       "    <tr>\n",
       "      <td>234</td>\n",
       "      <td>311070</td>\n",
       "      <td>8.4</td>\n",
       "      <td>Oldeuboi (2003)</td>\n",
       "      <td>2003</td>\n",
       "      <td>2000</td>\n",
       "    </tr>\n",
       "    <tr>\n",
       "      <td>240</td>\n",
       "      <td>117590</td>\n",
       "      <td>8.4</td>\n",
       "      <td>The Great Dictator (1940)</td>\n",
       "      <td>1940</td>\n",
       "      <td>1940</td>\n",
       "    </tr>\n",
       "    <tr>\n",
       "      <td>243</td>\n",
       "      <td>268905</td>\n",
       "      <td>8.4</td>\n",
       "      <td>Citizen Kane (1941)</td>\n",
       "      <td>1941</td>\n",
       "      <td>1940</td>\n",
       "    </tr>\n",
       "  </tbody>\n",
       "</table>\n",
       "</div>"
      ],
      "text/plain": [
       "      Votes  Rank                                              Title  Year  \\\n",
       "0     88355   8.4                                           M (1931)  1931   \n",
       "15   192165   8.4                               Mononoke-hime (1997)  1997   \n",
       "19   229533   8.4                       Das Leben der Anderen (2006)  2006   \n",
       "38   532559   8.4                                 The Shining (1980)  1980   \n",
       "58   195266   8.4                 Once Upon a Time in America (1984)  1984   \n",
       "82   198795   8.4                          North by Northwest (1959)  1959   \n",
       "84   556811   8.4  Star Wars: Episode VI - Return of the Jedi (1983)  1983   \n",
       "95   436218   8.4                                      Aliens (1986)  1986   \n",
       "99   474068   8.4         Le fabuleux destin d'Amélie Poulain (2001)  2001   \n",
       "104  735056   8.4                             American Beauty (1999)  1999   \n",
       "113  804729   8.4                            Django Unchained (2012)  2012   \n",
       "162  115740   8.4                              Hotaru no haka (1988)  1988   \n",
       "186  106038   8.4                              Paths of Glory (1957)  1957   \n",
       "195  218430   8.4                                     Vertigo (1958)  1958   \n",
       "202  548750   8.4                               The Lion King (1994)  1994   \n",
       "211  997350   8.4                       The Dark Knight Rises (2012)  2012   \n",
       "220  132121   8.4                       Nuovo Cinema Paradiso (1988)  1988   \n",
       "230  618914   8.4                                      WALL·E (2008)  2008   \n",
       "231  151256   8.4                                    Das Boot (1981)  1981   \n",
       "234  311070   8.4                                    Oldeuboi (2003)  2003   \n",
       "240  117590   8.4                          The Great Dictator (1940)  1940   \n",
       "243  268905   8.4                                Citizen Kane (1941)  1941   \n",
       "\n",
       "     Decade  \n",
       "0      1930  \n",
       "15     1990  \n",
       "19     2000  \n",
       "38     1980  \n",
       "58     1980  \n",
       "82     1950  \n",
       "84     1980  \n",
       "95     1980  \n",
       "99     2000  \n",
       "104    1990  \n",
       "113    2010  \n",
       "162    1980  \n",
       "186    1950  \n",
       "195    1950  \n",
       "202    1990  \n",
       "211    2010  \n",
       "220    1980  \n",
       "230    2000  \n",
       "231    1980  \n",
       "234    2000  \n",
       "240    1940  \n",
       "243    1940  "
      ]
     },
     "execution_count": 26,
     "metadata": {},
     "output_type": "execute_result"
    }
   ],
   "source": [
    "mask = df['Rank'] == 8.4\n",
    "result = df[mask]\n",
    "result"
   ]
  },
  {
   "cell_type": "markdown",
   "metadata": {},
   "source": [
    "#### Number 12 How to slice a data frame given names of columns or index values of rows?"
   ]
  },
  {
   "cell_type": "code",
   "execution_count": 27,
   "metadata": {},
   "outputs": [
    {
     "data": {
      "text/plain": [
       "'Full Metal Jacket (1987)'"
      ]
     },
     "execution_count": 27,
     "metadata": {},
     "output_type": "execute_result"
    }
   ],
   "source": [
    "df.iat[5,2]"
   ]
  },
  {
   "cell_type": "markdown",
   "metadata": {},
   "source": [
    "#### Number 13 How to iterate over rows?"
   ]
  },
  {
   "cell_type": "code",
   "execution_count": 28,
   "metadata": {},
   "outputs": [
    {
     "name": "stdout",
     "output_type": "stream",
     "text": [
      "M (1931)\n",
      "Singin' in the Rain (1952)\n",
      "All About Eve (1950)\n",
      "Léon (1994)\n",
      "The Elephant Man (1980)\n",
      "Full Metal Jacket (1987)\n",
      "Gone Girl (2014)\n",
      "Batman Begins (2005)\n",
      "Judgment at Nuremberg (1961)\n",
      "Relatos salvajes (2014)\n",
      "It Happened One Night (1934)\n",
      "Gran Torino (2008)\n",
      "Some Like It Hot (1959)\n",
      "Inglourious Basterds (2009)\n",
      "The Princess Bride (1987)\n",
      "Mononoke-hime (1997)\n",
      "Saving Private Ryan (1998)\n",
      "Mr. Smith Goes to Washington (1939)\n",
      "Butch Cassidy and the Sundance Kid (1969)\n",
      "Das Leben der Anderen (2006)\n",
      "In the Name of the Father (1993)\n",
      "The Grapes of Wrath (1940)\n",
      "The Godfather (1972)\n",
      "Bom yeoreum gaeul gyeoul geurigo bom (2003)\n",
      "V for Vendetta (2005)\n",
      "Mary and Max (2009)\n",
      "Warrior (2011)\n",
      "Intouchables (2011)\n",
      "La battaglia di Algeri (1966)\n",
      "The Sting (1973)\n",
      "Shutter Island (2010)\n",
      "Jaws (1975)\n",
      "Before Sunrise (1995)\n",
      "2001: A Space Odyssey (1968)\n",
      "12 Years a Slave (2013)\n",
      "The Killing (1956)\n",
      "Papillon (1973)\n",
      "Lawrence of Arabia (1962)\n",
      "The Shining (1980)\n",
      "Cool Hand Luke (1967)\n",
      "A Beautiful Mind (2001)\n",
      "Inside Out (2015/I)\n",
      "Dr. Strangelove or: How I Learned to Stop Worrying and Love the Bomb (1964)\n",
      "Paris, Texas (1984)\n",
      "Snatch. (2000)\n",
      "The Bourne Ultimatum (2007)\n",
      "X-Men: Days of Future Past (2014)\n",
      "The Silence of the Lambs (1991)\n",
      "Memento (2000)\n",
      "Metropolis (1927)\n",
      "Double Indemnity (1944)\n",
      "Roman Holiday (1953)\n",
      "Jagten (2012)\n",
      "The Shawshank Redemption (1994)\n",
      "El secreto de sus ojos (2009)\n",
      "Alien (1979)\n",
      "The Imitation Game (2014)\n",
      "Il buono, il brutto, il cattivo (1966)\n",
      "Once Upon a Time in America (1984)\n",
      "The Great Escape (1963)\n",
      "Gandhi (1982)\n",
      "Toy Story 3 (2010)\n",
      "Touch of Evil (1958)\n",
      "Life of Brian (1979)\n",
      "How to Train Your Dragon (2010)\n",
      "Rashômon (1950)\n",
      "Heat (1995)\n",
      "The Apartment (1960)\n",
      "The Lord of the Rings: The Two Towers (2002)\n",
      "Requiem for a Dream (2000)\n",
      "Interstellar (2014)\n",
      "Barry Lyndon (1975)\n",
      "The Maltese Falcon (1941)\n",
      "Blade Runner (1982)\n",
      "Apocalypse Now (1979)\n",
      "The Treasure of the Sierra Madre (1948)\n",
      "The Dark Knight (2008)\n",
      "La strada (1954)\n",
      "C'era una volta il West (1968)\n",
      "Toy Story (1995)\n",
      "No Country for Old Men (2007)\n",
      "Inception (2010)\n",
      "North by Northwest (1959)\n",
      "Hotel Rwanda (2004)\n",
      "Star Wars: Episode VI - Return of the Jedi (1983)\n",
      "Beauty and the Beast (1991)\n",
      "Sunset Blvd. (1950)\n",
      "Fight Club (1999)\n",
      "Ran (1985)\n",
      "Der Untergang (2004)\n",
      "The Departed (2006)\n",
      "The Godfather: Part II (1974)\n",
      "The Man Who Shot Liberty Valance (1962)\n",
      "Guardians of the Galaxy (2014)\n",
      "L.A. Confidential (1997)\n",
      "Aliens (1986)\n",
      "The Usual Suspects (1995)\n",
      "Terminator 2: Judgment Day (1991)\n",
      "Shichinin no samurai (1954)\n",
      "Le fabuleux destin d'Amélie Poulain (2001)\n",
      "The Grand Budapest Hotel (2014)\n",
      "The Wizard of Oz (1939)\n",
      "The Best Years of Our Lives (1946)\n",
      "Goodfellas (1990)\n",
      "American Beauty (1999)\n",
      "12 Angry Men (1957)\n",
      "Incendies (2010)\n",
      "Die Hard (1988)\n",
      "Harry Potter and the Deathly Hallows: Part 2 (2011)\n",
      "Back to the Future (1985)\n",
      "Gladiator (2000)\n",
      "Salinui chueok (2003)\n",
      "Mou gaan dou (2002)\n",
      "Django Unchained (2012)\n",
      "The Thing (1982)\n",
      "The Sixth Sense (1999)\n",
      "La haine (1995)\n",
      "Pirates of the Caribbean: The Curse of the Black Pearl (2003)\n",
      "Ladri di biciclette (1948)\n",
      "Les diaboliques (1955)\n",
      "Notorious (1946)\n",
      "Taxi Driver (1976)\n",
      "Yip Man (2008)\n",
      "Groundhog Day (1993)\n",
      "Akira (1988)\n",
      "Kumonosu-jô (1957)\n",
      "Twelve Monkeys (1995)\n",
      "The Terminator (1984)\n",
      "Who's Afraid of Virginia Woolf? (1966)\n",
      "The Matrix (1999)\n",
      "Unforgiven (1992)\n",
      "The Help (2011)\n",
      "Fanny och Alexander (1982)\n",
      "American History X (1998)\n",
      "Trois couleurs: Rouge (1994)\n",
      "Ben-Hur (1959)\n",
      "Annie Hall (1977)\n",
      "Persona (1966)\n",
      "Reservoir Dogs (1992)\n",
      "Casino (1995)\n",
      "Scarface (1983)\n",
      "The Lord of the Rings: The Return of the King (2003)\n",
      "The Wolf of Wall Street (2013)\n",
      "Tonari no Totoro (1988)\n",
      "Lagaan: Once Upon a Time in India (2001)\n",
      "To Kill a Mockingbird (1962)\n",
      "The General (1926)\n",
      "Schindler's List (1993)\n",
      "Whiplash (2014)\n",
      "The Green Mile (1999)\n",
      "Sin City (2005)\n",
      "Platoon (1986)\n",
      "Sen to Chihiro no Kamikakushi (2001)\n",
      "Per qualche dollaro in più (1965)\n",
      "Jurassic Park (1993)\n",
      "Lock, Stock and Two Smoking Barrels (1998)\n",
      "Star Wars: Episode V - The Empire Strikes Back (1980)\n",
      "A Clockwork Orange (1971)\n",
      "Casablanca (1942)\n",
      "Fargo (1996)\n",
      "Witness for the Prosecution (1957)\n",
      "Good Will Hunting (1997)\n",
      "Hotaru no haka (1988)\n",
      "Trainspotting (1996)\n",
      "There Will Be Blood (2007)\n",
      "Dial M for Murder (1954)\n",
      "The Big Sleep (1946)\n",
      "Rebecca (1940)\n",
      "Monsters, Inc. (2001)\n",
      "Se7en (1995)\n",
      "Braveheart (1995)\n",
      "Ikiru (1952)\n",
      "Before Sunset (2004)\n",
      "The Kid (1921)\n",
      "The Avengers (2012)\n",
      "El laberinto del fauno (2006)\n",
      "Per un pugno di dollari (1964)\n",
      "On the Waterfront (1954)\n",
      "The Lord of the Rings: The Fellowship of the Ring (2001)\n",
      "Donnie Darko (2001)\n",
      "Underground (1995)\n",
      "Stand by Me (1986)\n",
      "Le samouraï (1967)\n",
      "Up (2009)\n",
      "The Pianist (2002)\n",
      "Les quatre cents coups (1959)\n",
      "Paths of Glory (1957)\n",
      "The Deer Hunter (1978)\n",
      "Gone with the Wind (1939)\n",
      "Star Wars (1977)\n",
      "Hauru no ugoku shiro (2004)\n",
      "The King's Speech (2010)\n",
      "High Noon (1952)\n",
      "Prisoners (2013)\n",
      "Yôjinbô (1961)\n",
      "Vertigo (1958)\n",
      "Dog Day Afternoon (1975)\n",
      "The Prestige (2006)\n",
      "Rush (2013/I)\n",
      "Into the Wild (2007)\n",
      "Raging Bull (1980)\n",
      "The Big Lebowski (1998)\n",
      "The Lion King (1994)\n",
      "Indiana Jones and the Last Crusade (1989)\n",
      "La vita è bella (1997)\n",
      "The Gold Rush (1925)\n",
      "The Truman Show (1998)\n",
      "Kill Bill: Vol. 1 (2003)\n",
      "The Bridge on the River Kwai (1957)\n",
      "Amores perros (2000)\n",
      "Jodaeiye Nader az Simin (2011)\n",
      "The Dark Knight Rises (2012)\n",
      "Modern Times (1936)\n",
      "It's a Wonderful Life (1946)\n",
      "The Hustler (1961)\n",
      "The Third Man (1949)\n",
      "City Lights (1931)\n",
      "Rear Window (1954)\n",
      "Monty Python and the Holy Grail (1975)\n",
      "Psycho (1960)\n",
      "Nuovo Cinema Paradiso (1988)\n",
      "Rocky (1976)\n",
      "Kaze no tani no Naushika (1984)\n",
      "One Flew Over the Cuckoo's Nest (1975)\n",
      "Pulp Fiction (1994)\n",
      "Amadeus (1984)\n",
      "Stalker (1979)\n",
      "Finding Nemo (2003)\n",
      "Tenkû no shiro Rapyuta (1986)\n",
      "Chinatown (1974)\n",
      "WALL·E (2008)\n",
      "Das Boot (1981)\n",
      "Hachi: A Dog's Tale (2009)\n",
      "Mad Max: Fury Road (2015)\n",
      "Oldeuboi (2003)\n",
      "Det sjunde inseglet (1957)\n",
      "Raiders of the Lost Ark (1981)\n",
      "The Night of the Hunter (1955)\n",
      "Smultronstället (1957)\n",
      "Million Dollar Baby (2004)\n",
      "The Great Dictator (1940)\n",
      "Strangers on a Train (1951)\n",
      "Cidade de Deus (2002)\n",
      "Citizen Kane (1941)\n",
      "8½ (1963)\n",
      "Forrest Gump (1994)\n",
      "Le salaire de la peur (1953)\n",
      "3 Idiots (2009)\n",
      "Network (1976)\n",
      "Eternal Sunshine of the Spotless Mind (2004)\n"
     ]
    }
   ],
   "source": [
    "for row in df.itertuples():\n",
    "    print(row.Title)"
   ]
  },
  {
   "cell_type": "markdown",
   "metadata": {},
   "source": [
    "#### Number 14 How to sort by a column?"
   ]
  },
  {
   "cell_type": "code",
   "execution_count": 29,
   "metadata": {},
   "outputs": [
    {
     "data": {
      "text/html": [
       "<div>\n",
       "<style scoped>\n",
       "    .dataframe tbody tr th:only-of-type {\n",
       "        vertical-align: middle;\n",
       "    }\n",
       "\n",
       "    .dataframe tbody tr th {\n",
       "        vertical-align: top;\n",
       "    }\n",
       "\n",
       "    .dataframe thead th {\n",
       "        text-align: right;\n",
       "    }\n",
       "</style>\n",
       "<table border=\"1\" class=\"dataframe\">\n",
       "  <thead>\n",
       "    <tr style=\"text-align: right;\">\n",
       "      <th></th>\n",
       "      <th>Votes</th>\n",
       "      <th>Rank</th>\n",
       "      <th>Title</th>\n",
       "      <th>Year</th>\n",
       "      <th>Decade</th>\n",
       "    </tr>\n",
       "  </thead>\n",
       "  <tbody>\n",
       "    <tr>\n",
       "      <td>22</td>\n",
       "      <td>1027398</td>\n",
       "      <td>9.2</td>\n",
       "      <td>The Godfather (1972)</td>\n",
       "      <td>1972</td>\n",
       "      <td>1970</td>\n",
       "    </tr>\n",
       "    <tr>\n",
       "      <td>53</td>\n",
       "      <td>1498733</td>\n",
       "      <td>9.2</td>\n",
       "      <td>The Shawshank Redemption (1994)</td>\n",
       "      <td>1994</td>\n",
       "      <td>1990</td>\n",
       "    </tr>\n",
       "    <tr>\n",
       "      <td>91</td>\n",
       "      <td>692753</td>\n",
       "      <td>9.0</td>\n",
       "      <td>The Godfather: Part II (1974)</td>\n",
       "      <td>1974</td>\n",
       "      <td>1970</td>\n",
       "    </tr>\n",
       "    <tr>\n",
       "      <td>105</td>\n",
       "      <td>384187</td>\n",
       "      <td>8.9</td>\n",
       "      <td>12 Angry Men (1957)</td>\n",
       "      <td>1957</td>\n",
       "      <td>1950</td>\n",
       "    </tr>\n",
       "    <tr>\n",
       "      <td>57</td>\n",
       "      <td>447875</td>\n",
       "      <td>8.9</td>\n",
       "      <td>Il buono, il brutto, il cattivo (1966)</td>\n",
       "      <td>1966</td>\n",
       "      <td>1960</td>\n",
       "    </tr>\n",
       "    <tr>\n",
       "      <td>...</td>\n",
       "      <td>...</td>\n",
       "      <td>...</td>\n",
       "      <td>...</td>\n",
       "      <td>...</td>\n",
       "      <td>...</td>\n",
       "    </tr>\n",
       "    <tr>\n",
       "      <td>168</td>\n",
       "      <td>500576</td>\n",
       "      <td>8.0</td>\n",
       "      <td>Monsters, Inc. (2001)</td>\n",
       "      <td>2001</td>\n",
       "      <td>2000</td>\n",
       "    </tr>\n",
       "    <tr>\n",
       "      <td>166</td>\n",
       "      <td>59578</td>\n",
       "      <td>8.0</td>\n",
       "      <td>The Big Sleep (1946)</td>\n",
       "      <td>1946</td>\n",
       "      <td>1940</td>\n",
       "    </tr>\n",
       "    <tr>\n",
       "      <td>46</td>\n",
       "      <td>427099</td>\n",
       "      <td>8.0</td>\n",
       "      <td>X-Men: Days of Future Past (2014)</td>\n",
       "      <td>2014</td>\n",
       "      <td>2010</td>\n",
       "    </tr>\n",
       "    <tr>\n",
       "      <td>51</td>\n",
       "      <td>87437</td>\n",
       "      <td>8.0</td>\n",
       "      <td>Roman Holiday (1953)</td>\n",
       "      <td>1953</td>\n",
       "      <td>1950</td>\n",
       "    </tr>\n",
       "    <tr>\n",
       "      <td>125</td>\n",
       "      <td>26012</td>\n",
       "      <td>8.0</td>\n",
       "      <td>Kumonosu-jô (1957)</td>\n",
       "      <td>1957</td>\n",
       "      <td>1950</td>\n",
       "    </tr>\n",
       "  </tbody>\n",
       "</table>\n",
       "<p>250 rows × 5 columns</p>\n",
       "</div>"
      ],
      "text/plain": [
       "       Votes  Rank                                   Title  Year  Decade\n",
       "22   1027398   9.2                    The Godfather (1972)  1972    1970\n",
       "53   1498733   9.2         The Shawshank Redemption (1994)  1994    1990\n",
       "91    692753   9.0           The Godfather: Part II (1974)  1974    1970\n",
       "105   384187   8.9                     12 Angry Men (1957)  1957    1950\n",
       "57    447875   8.9  Il buono, il brutto, il cattivo (1966)  1966    1960\n",
       "..       ...   ...                                     ...   ...     ...\n",
       "168   500576   8.0                   Monsters, Inc. (2001)  2001    2000\n",
       "166    59578   8.0                    The Big Sleep (1946)  1946    1940\n",
       "46    427099   8.0       X-Men: Days of Future Past (2014)  2014    2010\n",
       "51     87437   8.0                    Roman Holiday (1953)  1953    1950\n",
       "125    26012   8.0                      Kumonosu-jô (1957)  1957    1950\n",
       "\n",
       "[250 rows x 5 columns]"
      ]
     },
     "execution_count": 29,
     "metadata": {},
     "output_type": "execute_result"
    }
   ],
   "source": [
    "df\n",
    "df.sort_values(['Rank'], ascending=False)"
   ]
  },
  {
   "cell_type": "markdown",
   "metadata": {},
   "source": [
    "#### Number 15 How to apply a function to each element to a series?"
   ]
  },
  {
   "cell_type": "code",
   "execution_count": 78,
   "metadata": {},
   "outputs": [
    {
     "data": {
      "text/plain": [
       "0      8.4\n",
       "1      8.3\n",
       "2      8.3\n",
       "3      8.6\n",
       "4      8.2\n",
       "      ... \n",
       "245    8.7\n",
       "246    8.1\n",
       "247    8.2\n",
       "248    8.1\n",
       "249    8.3\n",
       "Length: 250, dtype: float64"
      ]
     },
     "execution_count": 78,
     "metadata": {},
     "output_type": "execute_result"
    }
   ],
   "source": [
    "df[['Rank']].apply(np.sum, axis=1)"
   ]
  },
  {
   "cell_type": "markdown",
   "metadata": {},
   "source": [
    "#### Number 16 How to apply a function to all elements in a data frame?"
   ]
  },
  {
   "cell_type": "code",
   "execution_count": 77,
   "metadata": {},
   "outputs": [
    {
     "data": {
      "text/html": [
       "<div>\n",
       "<style scoped>\n",
       "    .dataframe tbody tr th:only-of-type {\n",
       "        vertical-align: middle;\n",
       "    }\n",
       "\n",
       "    .dataframe tbody tr th {\n",
       "        vertical-align: top;\n",
       "    }\n",
       "\n",
       "    .dataframe thead th {\n",
       "        text-align: right;\n",
       "    }\n",
       "</style>\n",
       "<table border=\"1\" class=\"dataframe\">\n",
       "  <thead>\n",
       "    <tr style=\"text-align: right;\">\n",
       "      <th></th>\n",
       "      <th>Votes</th>\n",
       "      <th>Rank</th>\n",
       "      <th>Title</th>\n",
       "      <th>Year</th>\n",
       "      <th>Decade</th>\n",
       "    </tr>\n",
       "  </thead>\n",
       "  <tbody>\n",
       "    <tr>\n",
       "      <td>0</td>\n",
       "      <td>88355_X</td>\n",
       "      <td>8.4_X</td>\n",
       "      <td>M (1931)_X</td>\n",
       "      <td>1931_X</td>\n",
       "      <td>1930_X</td>\n",
       "    </tr>\n",
       "    <tr>\n",
       "      <td>1</td>\n",
       "      <td>132823_X</td>\n",
       "      <td>8.3_X</td>\n",
       "      <td>Singin' in the Rain (1952)_X</td>\n",
       "      <td>1952_X</td>\n",
       "      <td>1950_X</td>\n",
       "    </tr>\n",
       "    <tr>\n",
       "      <td>2</td>\n",
       "      <td>74178_X</td>\n",
       "      <td>8.3_X</td>\n",
       "      <td>All About Eve (1950)_X</td>\n",
       "      <td>1950_X</td>\n",
       "      <td>1950_X</td>\n",
       "    </tr>\n",
       "    <tr>\n",
       "      <td>3</td>\n",
       "      <td>635139_X</td>\n",
       "      <td>8.6_X</td>\n",
       "      <td>Léon (1994)_X</td>\n",
       "      <td>1994_X</td>\n",
       "      <td>1990_X</td>\n",
       "    </tr>\n",
       "    <tr>\n",
       "      <td>4</td>\n",
       "      <td>145514_X</td>\n",
       "      <td>8.2_X</td>\n",
       "      <td>The Elephant Man (1980)_X</td>\n",
       "      <td>1980_X</td>\n",
       "      <td>1980_X</td>\n",
       "    </tr>\n",
       "    <tr>\n",
       "      <td>...</td>\n",
       "      <td>...</td>\n",
       "      <td>...</td>\n",
       "      <td>...</td>\n",
       "      <td>...</td>\n",
       "      <td>...</td>\n",
       "    </tr>\n",
       "    <tr>\n",
       "      <td>245</td>\n",
       "      <td>1078416_X</td>\n",
       "      <td>8.7_X</td>\n",
       "      <td>Forrest Gump (1994)_X</td>\n",
       "      <td>1994_X</td>\n",
       "      <td>1990_X</td>\n",
       "    </tr>\n",
       "    <tr>\n",
       "      <td>246</td>\n",
       "      <td>31003_X</td>\n",
       "      <td>8.1_X</td>\n",
       "      <td>Le salaire de la peur (1953)_X</td>\n",
       "      <td>1953_X</td>\n",
       "      <td>1950_X</td>\n",
       "    </tr>\n",
       "    <tr>\n",
       "      <td>247</td>\n",
       "      <td>167076_X</td>\n",
       "      <td>8.2_X</td>\n",
       "      <td>3 Idiots (2009)_X</td>\n",
       "      <td>2009_X</td>\n",
       "      <td>2000_X</td>\n",
       "    </tr>\n",
       "    <tr>\n",
       "      <td>248</td>\n",
       "      <td>91689_X</td>\n",
       "      <td>8.1_X</td>\n",
       "      <td>Network (1976)_X</td>\n",
       "      <td>1976_X</td>\n",
       "      <td>1970_X</td>\n",
       "    </tr>\n",
       "    <tr>\n",
       "      <td>249</td>\n",
       "      <td>589477_X</td>\n",
       "      <td>8.3_X</td>\n",
       "      <td>Eternal Sunshine of the Spotless Mind (2004)_X</td>\n",
       "      <td>2004_X</td>\n",
       "      <td>2000_X</td>\n",
       "    </tr>\n",
       "  </tbody>\n",
       "</table>\n",
       "<p>250 rows × 5 columns</p>\n",
       "</div>"
      ],
      "text/plain": [
       "         Votes   Rank                                           Title    Year  \\\n",
       "0      88355_X  8.4_X                                      M (1931)_X  1931_X   \n",
       "1     132823_X  8.3_X                    Singin' in the Rain (1952)_X  1952_X   \n",
       "2      74178_X  8.3_X                          All About Eve (1950)_X  1950_X   \n",
       "3     635139_X  8.6_X                                   Léon (1994)_X  1994_X   \n",
       "4     145514_X  8.2_X                       The Elephant Man (1980)_X  1980_X   \n",
       "..         ...    ...                                             ...     ...   \n",
       "245  1078416_X  8.7_X                           Forrest Gump (1994)_X  1994_X   \n",
       "246    31003_X  8.1_X                  Le salaire de la peur (1953)_X  1953_X   \n",
       "247   167076_X  8.2_X                               3 Idiots (2009)_X  2009_X   \n",
       "248    91689_X  8.1_X                                Network (1976)_X  1976_X   \n",
       "249   589477_X  8.3_X  Eternal Sunshine of the Spotless Mind (2004)_X  2004_X   \n",
       "\n",
       "     Decade  \n",
       "0    1930_X  \n",
       "1    1950_X  \n",
       "2    1950_X  \n",
       "3    1990_X  \n",
       "4    1980_X  \n",
       "..      ...  \n",
       "245  1990_X  \n",
       "246  1950_X  \n",
       "247  2000_X  \n",
       "248  1970_X  \n",
       "249  2000_X  \n",
       "\n",
       "[250 rows x 5 columns]"
      ]
     },
     "execution_count": 77,
     "metadata": {},
     "output_type": "execute_result"
    }
   ],
   "source": [
    "##was a little confused on this one but finally got it\n",
    "new_df = df.applymap(lambda x: str(x) + '_X')\n",
    "new_df"
   ]
  },
  {
   "cell_type": "markdown",
   "metadata": {},
   "source": [
    "#### Number 17 How to slice a data frame if values of a series lie in a list?"
   ]
  },
  {
   "cell_type": "code",
   "execution_count": 34,
   "metadata": {},
   "outputs": [
    {
     "data": {
      "text/html": [
       "<div>\n",
       "<style scoped>\n",
       "    .dataframe tbody tr th:only-of-type {\n",
       "        vertical-align: middle;\n",
       "    }\n",
       "\n",
       "    .dataframe tbody tr th {\n",
       "        vertical-align: top;\n",
       "    }\n",
       "\n",
       "    .dataframe thead th {\n",
       "        text-align: right;\n",
       "    }\n",
       "</style>\n",
       "<table border=\"1\" class=\"dataframe\">\n",
       "  <thead>\n",
       "    <tr style=\"text-align: right;\">\n",
       "      <th></th>\n",
       "      <th>Votes</th>\n",
       "      <th>Rank</th>\n",
       "      <th>Title</th>\n",
       "      <th>Year</th>\n",
       "      <th>Decade</th>\n",
       "    </tr>\n",
       "  </thead>\n",
       "  <tbody>\n",
       "    <tr>\n",
       "      <td>0</td>\n",
       "      <td>88355</td>\n",
       "      <td>8.4</td>\n",
       "      <td>M (1931)</td>\n",
       "      <td>1931</td>\n",
       "      <td>1930</td>\n",
       "    </tr>\n",
       "    <tr>\n",
       "      <td>15</td>\n",
       "      <td>192165</td>\n",
       "      <td>8.4</td>\n",
       "      <td>Mononoke-hime (1997)</td>\n",
       "      <td>1997</td>\n",
       "      <td>1990</td>\n",
       "    </tr>\n",
       "    <tr>\n",
       "      <td>19</td>\n",
       "      <td>229533</td>\n",
       "      <td>8.4</td>\n",
       "      <td>Das Leben der Anderen (2006)</td>\n",
       "      <td>2006</td>\n",
       "      <td>2000</td>\n",
       "    </tr>\n",
       "    <tr>\n",
       "      <td>38</td>\n",
       "      <td>532559</td>\n",
       "      <td>8.4</td>\n",
       "      <td>The Shining (1980)</td>\n",
       "      <td>1980</td>\n",
       "      <td>1980</td>\n",
       "    </tr>\n",
       "    <tr>\n",
       "      <td>58</td>\n",
       "      <td>195266</td>\n",
       "      <td>8.4</td>\n",
       "      <td>Once Upon a Time in America (1984)</td>\n",
       "      <td>1984</td>\n",
       "      <td>1980</td>\n",
       "    </tr>\n",
       "    <tr>\n",
       "      <td>82</td>\n",
       "      <td>198795</td>\n",
       "      <td>8.4</td>\n",
       "      <td>North by Northwest (1959)</td>\n",
       "      <td>1959</td>\n",
       "      <td>1950</td>\n",
       "    </tr>\n",
       "    <tr>\n",
       "      <td>84</td>\n",
       "      <td>556811</td>\n",
       "      <td>8.4</td>\n",
       "      <td>Star Wars: Episode VI - Return of the Jedi (1983)</td>\n",
       "      <td>1983</td>\n",
       "      <td>1980</td>\n",
       "    </tr>\n",
       "    <tr>\n",
       "      <td>95</td>\n",
       "      <td>436218</td>\n",
       "      <td>8.4</td>\n",
       "      <td>Aliens (1986)</td>\n",
       "      <td>1986</td>\n",
       "      <td>1980</td>\n",
       "    </tr>\n",
       "    <tr>\n",
       "      <td>99</td>\n",
       "      <td>474068</td>\n",
       "      <td>8.4</td>\n",
       "      <td>Le fabuleux destin d'Amélie Poulain (2001)</td>\n",
       "      <td>2001</td>\n",
       "      <td>2000</td>\n",
       "    </tr>\n",
       "    <tr>\n",
       "      <td>104</td>\n",
       "      <td>735056</td>\n",
       "      <td>8.4</td>\n",
       "      <td>American Beauty (1999)</td>\n",
       "      <td>1999</td>\n",
       "      <td>1990</td>\n",
       "    </tr>\n",
       "    <tr>\n",
       "      <td>113</td>\n",
       "      <td>804729</td>\n",
       "      <td>8.4</td>\n",
       "      <td>Django Unchained (2012)</td>\n",
       "      <td>2012</td>\n",
       "      <td>2010</td>\n",
       "    </tr>\n",
       "    <tr>\n",
       "      <td>162</td>\n",
       "      <td>115740</td>\n",
       "      <td>8.4</td>\n",
       "      <td>Hotaru no haka (1988)</td>\n",
       "      <td>1988</td>\n",
       "      <td>1980</td>\n",
       "    </tr>\n",
       "    <tr>\n",
       "      <td>186</td>\n",
       "      <td>106038</td>\n",
       "      <td>8.4</td>\n",
       "      <td>Paths of Glory (1957)</td>\n",
       "      <td>1957</td>\n",
       "      <td>1950</td>\n",
       "    </tr>\n",
       "    <tr>\n",
       "      <td>195</td>\n",
       "      <td>218430</td>\n",
       "      <td>8.4</td>\n",
       "      <td>Vertigo (1958)</td>\n",
       "      <td>1958</td>\n",
       "      <td>1950</td>\n",
       "    </tr>\n",
       "    <tr>\n",
       "      <td>202</td>\n",
       "      <td>548750</td>\n",
       "      <td>8.4</td>\n",
       "      <td>The Lion King (1994)</td>\n",
       "      <td>1994</td>\n",
       "      <td>1990</td>\n",
       "    </tr>\n",
       "    <tr>\n",
       "      <td>211</td>\n",
       "      <td>997350</td>\n",
       "      <td>8.4</td>\n",
       "      <td>The Dark Knight Rises (2012)</td>\n",
       "      <td>2012</td>\n",
       "      <td>2010</td>\n",
       "    </tr>\n",
       "    <tr>\n",
       "      <td>220</td>\n",
       "      <td>132121</td>\n",
       "      <td>8.4</td>\n",
       "      <td>Nuovo Cinema Paradiso (1988)</td>\n",
       "      <td>1988</td>\n",
       "      <td>1980</td>\n",
       "    </tr>\n",
       "    <tr>\n",
       "      <td>230</td>\n",
       "      <td>618914</td>\n",
       "      <td>8.4</td>\n",
       "      <td>WALL·E (2008)</td>\n",
       "      <td>2008</td>\n",
       "      <td>2000</td>\n",
       "    </tr>\n",
       "    <tr>\n",
       "      <td>231</td>\n",
       "      <td>151256</td>\n",
       "      <td>8.4</td>\n",
       "      <td>Das Boot (1981)</td>\n",
       "      <td>1981</td>\n",
       "      <td>1980</td>\n",
       "    </tr>\n",
       "    <tr>\n",
       "      <td>234</td>\n",
       "      <td>311070</td>\n",
       "      <td>8.4</td>\n",
       "      <td>Oldeuboi (2003)</td>\n",
       "      <td>2003</td>\n",
       "      <td>2000</td>\n",
       "    </tr>\n",
       "    <tr>\n",
       "      <td>240</td>\n",
       "      <td>117590</td>\n",
       "      <td>8.4</td>\n",
       "      <td>The Great Dictator (1940)</td>\n",
       "      <td>1940</td>\n",
       "      <td>1940</td>\n",
       "    </tr>\n",
       "    <tr>\n",
       "      <td>243</td>\n",
       "      <td>268905</td>\n",
       "      <td>8.4</td>\n",
       "      <td>Citizen Kane (1941)</td>\n",
       "      <td>1941</td>\n",
       "      <td>1940</td>\n",
       "    </tr>\n",
       "  </tbody>\n",
       "</table>\n",
       "</div>"
      ],
      "text/plain": [
       "      Votes  Rank                                              Title  Year  \\\n",
       "0     88355   8.4                                           M (1931)  1931   \n",
       "15   192165   8.4                               Mononoke-hime (1997)  1997   \n",
       "19   229533   8.4                       Das Leben der Anderen (2006)  2006   \n",
       "38   532559   8.4                                 The Shining (1980)  1980   \n",
       "58   195266   8.4                 Once Upon a Time in America (1984)  1984   \n",
       "82   198795   8.4                          North by Northwest (1959)  1959   \n",
       "84   556811   8.4  Star Wars: Episode VI - Return of the Jedi (1983)  1983   \n",
       "95   436218   8.4                                      Aliens (1986)  1986   \n",
       "99   474068   8.4         Le fabuleux destin d'Amélie Poulain (2001)  2001   \n",
       "104  735056   8.4                             American Beauty (1999)  1999   \n",
       "113  804729   8.4                            Django Unchained (2012)  2012   \n",
       "162  115740   8.4                              Hotaru no haka (1988)  1988   \n",
       "186  106038   8.4                              Paths of Glory (1957)  1957   \n",
       "195  218430   8.4                                     Vertigo (1958)  1958   \n",
       "202  548750   8.4                               The Lion King (1994)  1994   \n",
       "211  997350   8.4                       The Dark Knight Rises (2012)  2012   \n",
       "220  132121   8.4                       Nuovo Cinema Paradiso (1988)  1988   \n",
       "230  618914   8.4                                      WALL·E (2008)  2008   \n",
       "231  151256   8.4                                    Das Boot (1981)  1981   \n",
       "234  311070   8.4                                    Oldeuboi (2003)  2003   \n",
       "240  117590   8.4                          The Great Dictator (1940)  1940   \n",
       "243  268905   8.4                                Citizen Kane (1941)  1941   \n",
       "\n",
       "     Decade  \n",
       "0      1930  \n",
       "15     1990  \n",
       "19     2000  \n",
       "38     1980  \n",
       "58     1980  \n",
       "82     1950  \n",
       "84     1980  \n",
       "95     1980  \n",
       "99     2000  \n",
       "104    1990  \n",
       "113    2010  \n",
       "162    1980  \n",
       "186    1950  \n",
       "195    1950  \n",
       "202    1990  \n",
       "211    2010  \n",
       "220    1980  \n",
       "230    2000  \n",
       "231    1980  \n",
       "234    2000  \n",
       "240    1940  \n",
       "243    1940  "
      ]
     },
     "execution_count": 34,
     "metadata": {},
     "output_type": "execute_result"
    }
   ],
   "source": [
    "mask = df[df['Rank'].isin([8.4])]\n",
    "mask"
   ]
  },
  {
   "cell_type": "markdown",
   "metadata": {},
   "source": [
    "#### Number 18 How to group-by column values and aggregate over another column or apply a function to it?"
   ]
  },
  {
   "cell_type": "code",
   "execution_count": 35,
   "metadata": {},
   "outputs": [
    {
     "data": {
      "text/html": [
       "<div>\n",
       "<style scoped>\n",
       "    .dataframe tbody tr th:only-of-type {\n",
       "        vertical-align: middle;\n",
       "    }\n",
       "\n",
       "    .dataframe tbody tr th {\n",
       "        vertical-align: top;\n",
       "    }\n",
       "\n",
       "    .dataframe thead tr th {\n",
       "        text-align: left;\n",
       "    }\n",
       "\n",
       "    .dataframe thead tr:last-of-type th {\n",
       "        text-align: right;\n",
       "    }\n",
       "</style>\n",
       "<table border=\"1\" class=\"dataframe\">\n",
       "  <thead>\n",
       "    <tr>\n",
       "      <th></th>\n",
       "      <th></th>\n",
       "      <th>Rank</th>\n",
       "    </tr>\n",
       "    <tr>\n",
       "      <th></th>\n",
       "      <th></th>\n",
       "      <th>min</th>\n",
       "    </tr>\n",
       "    <tr>\n",
       "      <th>Title</th>\n",
       "      <th>Year</th>\n",
       "      <th></th>\n",
       "    </tr>\n",
       "  </thead>\n",
       "  <tbody>\n",
       "    <tr>\n",
       "      <td>12 Angry Men (1957)</td>\n",
       "      <td>1957</td>\n",
       "      <td>8.9</td>\n",
       "    </tr>\n",
       "    <tr>\n",
       "      <td>12 Years a Slave (2013)</td>\n",
       "      <td>2013</td>\n",
       "      <td>8.1</td>\n",
       "    </tr>\n",
       "    <tr>\n",
       "      <td>2001: A Space Odyssey (1968)</td>\n",
       "      <td>1968</td>\n",
       "      <td>8.3</td>\n",
       "    </tr>\n",
       "    <tr>\n",
       "      <td>3 Idiots (2009)</td>\n",
       "      <td>2009</td>\n",
       "      <td>8.2</td>\n",
       "    </tr>\n",
       "    <tr>\n",
       "      <td>8½ (1963)</td>\n",
       "      <td>1963</td>\n",
       "      <td>8.1</td>\n",
       "    </tr>\n",
       "    <tr>\n",
       "      <td>...</td>\n",
       "      <td>...</td>\n",
       "      <td>...</td>\n",
       "    </tr>\n",
       "    <tr>\n",
       "      <td>Who's Afraid of Virginia Woolf? (1966)</td>\n",
       "      <td>1966</td>\n",
       "      <td>8.0</td>\n",
       "    </tr>\n",
       "    <tr>\n",
       "      <td>Witness for the Prosecution (1957)</td>\n",
       "      <td>1957</td>\n",
       "      <td>8.3</td>\n",
       "    </tr>\n",
       "    <tr>\n",
       "      <td>X-Men: Days of Future Past (2014)</td>\n",
       "      <td>2014</td>\n",
       "      <td>8.0</td>\n",
       "    </tr>\n",
       "    <tr>\n",
       "      <td>Yip Man (2008)</td>\n",
       "      <td>2008</td>\n",
       "      <td>8.0</td>\n",
       "    </tr>\n",
       "    <tr>\n",
       "      <td>Yôjinbô (1961)</td>\n",
       "      <td>1961</td>\n",
       "      <td>8.3</td>\n",
       "    </tr>\n",
       "  </tbody>\n",
       "</table>\n",
       "<p>250 rows × 1 columns</p>\n",
       "</div>"
      ],
      "text/plain": [
       "                                            Rank\n",
       "                                             min\n",
       "Title                                  Year     \n",
       "12 Angry Men (1957)                    1957  8.9\n",
       "12 Years a Slave (2013)                2013  8.1\n",
       "2001: A Space Odyssey (1968)           1968  8.3\n",
       "3 Idiots (2009)                        2009  8.2\n",
       "8½ (1963)                              1963  8.1\n",
       "...                                          ...\n",
       "Who's Afraid of Virginia Woolf? (1966) 1966  8.0\n",
       "Witness for the Prosecution (1957)     1957  8.3\n",
       "X-Men: Days of Future Past (2014)      2014  8.0\n",
       "Yip Man (2008)                         2008  8.0\n",
       "Yôjinbô (1961)                         1961  8.3\n",
       "\n",
       "[250 rows x 1 columns]"
      ]
     },
     "execution_count": 35,
     "metadata": {},
     "output_type": "execute_result"
    }
   ],
   "source": [
    "df.groupby([\"Title\",\"Year\"]).agg({\"Rank\":[min]})"
   ]
  },
  {
   "cell_type": "markdown",
   "metadata": {},
   "source": [
    "#### Number 19 How to create duplicates for other columns for each element in a list of a particular column?"
   ]
  },
  {
   "cell_type": "code",
   "execution_count": 36,
   "metadata": {},
   "outputs": [
    {
     "data": {
      "text/plain": [
       "0      8.4\n",
       "1      8.3\n",
       "2      8.3\n",
       "3      8.6\n",
       "4      8.2\n",
       "      ... \n",
       "245    8.7\n",
       "246    8.1\n",
       "247    8.2\n",
       "248    8.1\n",
       "249    8.3\n",
       "Name: Rank, Length: 250, dtype: float64"
      ]
     },
     "execution_count": 36,
     "metadata": {},
     "output_type": "execute_result"
    }
   ],
   "source": [
    "df['Rank'].explode()"
   ]
  },
  {
   "cell_type": "markdown",
   "metadata": {},
   "source": [
    "#### Number 20 How to concatenate two data frames?"
   ]
  },
  {
   "cell_type": "code",
   "execution_count": 37,
   "metadata": {},
   "outputs": [
    {
     "data": {
      "text/html": [
       "<div>\n",
       "<style scoped>\n",
       "    .dataframe tbody tr th:only-of-type {\n",
       "        vertical-align: middle;\n",
       "    }\n",
       "\n",
       "    .dataframe tbody tr th {\n",
       "        vertical-align: top;\n",
       "    }\n",
       "\n",
       "    .dataframe thead th {\n",
       "        text-align: right;\n",
       "    }\n",
       "</style>\n",
       "<table border=\"1\" class=\"dataframe\">\n",
       "  <thead>\n",
       "    <tr style=\"text-align: right;\">\n",
       "      <th></th>\n",
       "      <th>Votes</th>\n",
       "      <th>Rank</th>\n",
       "      <th>Title</th>\n",
       "      <th>Year</th>\n",
       "      <th>Decade</th>\n",
       "      <th>Votes</th>\n",
       "      <th>Rank</th>\n",
       "      <th>Title</th>\n",
       "      <th>Year</th>\n",
       "      <th>Decade</th>\n",
       "    </tr>\n",
       "  </thead>\n",
       "  <tbody>\n",
       "    <tr>\n",
       "      <td>0</td>\n",
       "      <td>88355</td>\n",
       "      <td>8.4</td>\n",
       "      <td>M (1931)</td>\n",
       "      <td>1931</td>\n",
       "      <td>1930</td>\n",
       "      <td>88355</td>\n",
       "      <td>8.4</td>\n",
       "      <td>M (1931)</td>\n",
       "      <td>1931</td>\n",
       "      <td>1930</td>\n",
       "    </tr>\n",
       "    <tr>\n",
       "      <td>1</td>\n",
       "      <td>132823</td>\n",
       "      <td>8.3</td>\n",
       "      <td>Singin' in the Rain (1952)</td>\n",
       "      <td>1952</td>\n",
       "      <td>1950</td>\n",
       "      <td>132823</td>\n",
       "      <td>8.3</td>\n",
       "      <td>Singin' in the Rain (1952)</td>\n",
       "      <td>1952</td>\n",
       "      <td>1950</td>\n",
       "    </tr>\n",
       "    <tr>\n",
       "      <td>2</td>\n",
       "      <td>74178</td>\n",
       "      <td>8.3</td>\n",
       "      <td>All About Eve (1950)</td>\n",
       "      <td>1950</td>\n",
       "      <td>1950</td>\n",
       "      <td>74178</td>\n",
       "      <td>8.3</td>\n",
       "      <td>All About Eve (1950)</td>\n",
       "      <td>1950</td>\n",
       "      <td>1950</td>\n",
       "    </tr>\n",
       "    <tr>\n",
       "      <td>3</td>\n",
       "      <td>635139</td>\n",
       "      <td>8.6</td>\n",
       "      <td>Léon (1994)</td>\n",
       "      <td>1994</td>\n",
       "      <td>1990</td>\n",
       "      <td>635139</td>\n",
       "      <td>8.6</td>\n",
       "      <td>Léon (1994)</td>\n",
       "      <td>1994</td>\n",
       "      <td>1990</td>\n",
       "    </tr>\n",
       "    <tr>\n",
       "      <td>4</td>\n",
       "      <td>145514</td>\n",
       "      <td>8.2</td>\n",
       "      <td>The Elephant Man (1980)</td>\n",
       "      <td>1980</td>\n",
       "      <td>1980</td>\n",
       "      <td>145514</td>\n",
       "      <td>8.2</td>\n",
       "      <td>The Elephant Man (1980)</td>\n",
       "      <td>1980</td>\n",
       "      <td>1980</td>\n",
       "    </tr>\n",
       "    <tr>\n",
       "      <td>...</td>\n",
       "      <td>...</td>\n",
       "      <td>...</td>\n",
       "      <td>...</td>\n",
       "      <td>...</td>\n",
       "      <td>...</td>\n",
       "      <td>...</td>\n",
       "      <td>...</td>\n",
       "      <td>...</td>\n",
       "      <td>...</td>\n",
       "      <td>...</td>\n",
       "    </tr>\n",
       "    <tr>\n",
       "      <td>245</td>\n",
       "      <td>1078416</td>\n",
       "      <td>8.7</td>\n",
       "      <td>Forrest Gump (1994)</td>\n",
       "      <td>1994</td>\n",
       "      <td>1990</td>\n",
       "      <td>1078416</td>\n",
       "      <td>8.7</td>\n",
       "      <td>Forrest Gump (1994)</td>\n",
       "      <td>1994</td>\n",
       "      <td>1990</td>\n",
       "    </tr>\n",
       "    <tr>\n",
       "      <td>246</td>\n",
       "      <td>31003</td>\n",
       "      <td>8.1</td>\n",
       "      <td>Le salaire de la peur (1953)</td>\n",
       "      <td>1953</td>\n",
       "      <td>1950</td>\n",
       "      <td>31003</td>\n",
       "      <td>8.1</td>\n",
       "      <td>Le salaire de la peur (1953)</td>\n",
       "      <td>1953</td>\n",
       "      <td>1950</td>\n",
       "    </tr>\n",
       "    <tr>\n",
       "      <td>247</td>\n",
       "      <td>167076</td>\n",
       "      <td>8.2</td>\n",
       "      <td>3 Idiots (2009)</td>\n",
       "      <td>2009</td>\n",
       "      <td>2000</td>\n",
       "      <td>167076</td>\n",
       "      <td>8.2</td>\n",
       "      <td>3 Idiots (2009)</td>\n",
       "      <td>2009</td>\n",
       "      <td>2000</td>\n",
       "    </tr>\n",
       "    <tr>\n",
       "      <td>248</td>\n",
       "      <td>91689</td>\n",
       "      <td>8.1</td>\n",
       "      <td>Network (1976)</td>\n",
       "      <td>1976</td>\n",
       "      <td>1970</td>\n",
       "      <td>91689</td>\n",
       "      <td>8.1</td>\n",
       "      <td>Network (1976)</td>\n",
       "      <td>1976</td>\n",
       "      <td>1970</td>\n",
       "    </tr>\n",
       "    <tr>\n",
       "      <td>249</td>\n",
       "      <td>589477</td>\n",
       "      <td>8.3</td>\n",
       "      <td>Eternal Sunshine of the Spotless Mind (2004)</td>\n",
       "      <td>2004</td>\n",
       "      <td>2000</td>\n",
       "      <td>589477</td>\n",
       "      <td>8.3</td>\n",
       "      <td>Eternal Sunshine of the Spotless Mind (2004)</td>\n",
       "      <td>2004</td>\n",
       "      <td>2000</td>\n",
       "    </tr>\n",
       "  </tbody>\n",
       "</table>\n",
       "<p>250 rows × 10 columns</p>\n",
       "</div>"
      ],
      "text/plain": [
       "       Votes  Rank                                         Title  Year  \\\n",
       "0      88355   8.4                                      M (1931)  1931   \n",
       "1     132823   8.3                    Singin' in the Rain (1952)  1952   \n",
       "2      74178   8.3                          All About Eve (1950)  1950   \n",
       "3     635139   8.6                                   Léon (1994)  1994   \n",
       "4     145514   8.2                       The Elephant Man (1980)  1980   \n",
       "..       ...   ...                                           ...   ...   \n",
       "245  1078416   8.7                           Forrest Gump (1994)  1994   \n",
       "246    31003   8.1                  Le salaire de la peur (1953)  1953   \n",
       "247   167076   8.2                               3 Idiots (2009)  2009   \n",
       "248    91689   8.1                                Network (1976)  1976   \n",
       "249   589477   8.3  Eternal Sunshine of the Spotless Mind (2004)  2004   \n",
       "\n",
       "     Decade    Votes  Rank                                         Title  \\\n",
       "0      1930    88355   8.4                                      M (1931)   \n",
       "1      1950   132823   8.3                    Singin' in the Rain (1952)   \n",
       "2      1950    74178   8.3                          All About Eve (1950)   \n",
       "3      1990   635139   8.6                                   Léon (1994)   \n",
       "4      1980   145514   8.2                       The Elephant Man (1980)   \n",
       "..      ...      ...   ...                                           ...   \n",
       "245    1990  1078416   8.7                           Forrest Gump (1994)   \n",
       "246    1950    31003   8.1                  Le salaire de la peur (1953)   \n",
       "247    2000   167076   8.2                               3 Idiots (2009)   \n",
       "248    1970    91689   8.1                                Network (1976)   \n",
       "249    2000   589477   8.3  Eternal Sunshine of the Spotless Mind (2004)   \n",
       "\n",
       "     Year  Decade  \n",
       "0    1931    1930  \n",
       "1    1952    1950  \n",
       "2    1950    1950  \n",
       "3    1994    1990  \n",
       "4    1980    1980  \n",
       "..    ...     ...  \n",
       "245  1994    1990  \n",
       "246  1953    1950  \n",
       "247  2009    2000  \n",
       "248  1976    1970  \n",
       "249  2004    2000  \n",
       "\n",
       "[250 rows x 10 columns]"
      ]
     },
     "execution_count": 37,
     "metadata": {},
     "output_type": "execute_result"
    }
   ],
   "source": [
    "df2 = pd.read_csv('imdb_ratings.csv', sep=',', header = 0, index_col=False, names=None)\n",
    "result = pd.concat([df,df2],axis=1)\n",
    "result"
   ]
  },
  {
   "cell_type": "markdown",
   "metadata": {},
   "source": [
    "#### Number 21 How to merge two data frames?"
   ]
  },
  {
   "cell_type": "code",
   "execution_count": 38,
   "metadata": {},
   "outputs": [
    {
     "data": {
      "text/html": [
       "<div>\n",
       "<style scoped>\n",
       "    .dataframe tbody tr th:only-of-type {\n",
       "        vertical-align: middle;\n",
       "    }\n",
       "\n",
       "    .dataframe tbody tr th {\n",
       "        vertical-align: top;\n",
       "    }\n",
       "\n",
       "    .dataframe thead th {\n",
       "        text-align: right;\n",
       "    }\n",
       "</style>\n",
       "<table border=\"1\" class=\"dataframe\">\n",
       "  <thead>\n",
       "    <tr style=\"text-align: right;\">\n",
       "      <th></th>\n",
       "      <th>Votes_x</th>\n",
       "      <th>Rank</th>\n",
       "      <th>Title_x</th>\n",
       "      <th>Year_x</th>\n",
       "      <th>Decade_x</th>\n",
       "      <th>Votes_y</th>\n",
       "      <th>Title_y</th>\n",
       "      <th>Year_y</th>\n",
       "      <th>Decade_y</th>\n",
       "    </tr>\n",
       "  </thead>\n",
       "  <tbody>\n",
       "    <tr>\n",
       "      <td>0</td>\n",
       "      <td>88355</td>\n",
       "      <td>8.4</td>\n",
       "      <td>M (1931)</td>\n",
       "      <td>1931</td>\n",
       "      <td>1930</td>\n",
       "      <td>88355</td>\n",
       "      <td>M (1931)</td>\n",
       "      <td>1931</td>\n",
       "      <td>1930</td>\n",
       "    </tr>\n",
       "    <tr>\n",
       "      <td>1</td>\n",
       "      <td>88355</td>\n",
       "      <td>8.4</td>\n",
       "      <td>M (1931)</td>\n",
       "      <td>1931</td>\n",
       "      <td>1930</td>\n",
       "      <td>192165</td>\n",
       "      <td>Mononoke-hime (1997)</td>\n",
       "      <td>1997</td>\n",
       "      <td>1990</td>\n",
       "    </tr>\n",
       "    <tr>\n",
       "      <td>2</td>\n",
       "      <td>88355</td>\n",
       "      <td>8.4</td>\n",
       "      <td>M (1931)</td>\n",
       "      <td>1931</td>\n",
       "      <td>1930</td>\n",
       "      <td>229533</td>\n",
       "      <td>Das Leben der Anderen (2006)</td>\n",
       "      <td>2006</td>\n",
       "      <td>2000</td>\n",
       "    </tr>\n",
       "    <tr>\n",
       "      <td>3</td>\n",
       "      <td>88355</td>\n",
       "      <td>8.4</td>\n",
       "      <td>M (1931)</td>\n",
       "      <td>1931</td>\n",
       "      <td>1930</td>\n",
       "      <td>532559</td>\n",
       "      <td>The Shining (1980)</td>\n",
       "      <td>1980</td>\n",
       "      <td>1980</td>\n",
       "    </tr>\n",
       "    <tr>\n",
       "      <td>4</td>\n",
       "      <td>88355</td>\n",
       "      <td>8.4</td>\n",
       "      <td>M (1931)</td>\n",
       "      <td>1931</td>\n",
       "      <td>1930</td>\n",
       "      <td>195266</td>\n",
       "      <td>Once Upon a Time in America (1984)</td>\n",
       "      <td>1984</td>\n",
       "      <td>1980</td>\n",
       "    </tr>\n",
       "    <tr>\n",
       "      <td>...</td>\n",
       "      <td>...</td>\n",
       "      <td>...</td>\n",
       "      <td>...</td>\n",
       "      <td>...</td>\n",
       "      <td>...</td>\n",
       "      <td>...</td>\n",
       "      <td>...</td>\n",
       "      <td>...</td>\n",
       "      <td>...</td>\n",
       "    </tr>\n",
       "    <tr>\n",
       "      <td>9171</td>\n",
       "      <td>1177098</td>\n",
       "      <td>8.8</td>\n",
       "      <td>Fight Club (1999)</td>\n",
       "      <td>1999</td>\n",
       "      <td>1990</td>\n",
       "      <td>1177098</td>\n",
       "      <td>Fight Club (1999)</td>\n",
       "      <td>1999</td>\n",
       "      <td>1990</td>\n",
       "    </tr>\n",
       "    <tr>\n",
       "      <td>9172</td>\n",
       "      <td>1177098</td>\n",
       "      <td>8.8</td>\n",
       "      <td>Fight Club (1999)</td>\n",
       "      <td>1999</td>\n",
       "      <td>1990</td>\n",
       "      <td>1099087</td>\n",
       "      <td>The Lord of the Rings: The Fellowship of the R...</td>\n",
       "      <td>2001</td>\n",
       "      <td>2000</td>\n",
       "    </tr>\n",
       "    <tr>\n",
       "      <td>9173</td>\n",
       "      <td>1099087</td>\n",
       "      <td>8.8</td>\n",
       "      <td>The Lord of the Rings: The Fellowship of the R...</td>\n",
       "      <td>2001</td>\n",
       "      <td>2000</td>\n",
       "      <td>1177098</td>\n",
       "      <td>Fight Club (1999)</td>\n",
       "      <td>1999</td>\n",
       "      <td>1990</td>\n",
       "    </tr>\n",
       "    <tr>\n",
       "      <td>9174</td>\n",
       "      <td>1099087</td>\n",
       "      <td>8.8</td>\n",
       "      <td>The Lord of the Rings: The Fellowship of the R...</td>\n",
       "      <td>2001</td>\n",
       "      <td>2000</td>\n",
       "      <td>1099087</td>\n",
       "      <td>The Lord of the Rings: The Fellowship of the R...</td>\n",
       "      <td>2001</td>\n",
       "      <td>2000</td>\n",
       "    </tr>\n",
       "    <tr>\n",
       "      <td>9175</td>\n",
       "      <td>692753</td>\n",
       "      <td>9.0</td>\n",
       "      <td>The Godfather: Part II (1974)</td>\n",
       "      <td>1974</td>\n",
       "      <td>1970</td>\n",
       "      <td>692753</td>\n",
       "      <td>The Godfather: Part II (1974)</td>\n",
       "      <td>1974</td>\n",
       "      <td>1970</td>\n",
       "    </tr>\n",
       "  </tbody>\n",
       "</table>\n",
       "<p>9176 rows × 9 columns</p>\n",
       "</div>"
      ],
      "text/plain": [
       "      Votes_x  Rank                                            Title_x  \\\n",
       "0       88355   8.4                                           M (1931)   \n",
       "1       88355   8.4                                           M (1931)   \n",
       "2       88355   8.4                                           M (1931)   \n",
       "3       88355   8.4                                           M (1931)   \n",
       "4       88355   8.4                                           M (1931)   \n",
       "...       ...   ...                                                ...   \n",
       "9171  1177098   8.8                                  Fight Club (1999)   \n",
       "9172  1177098   8.8                                  Fight Club (1999)   \n",
       "9173  1099087   8.8  The Lord of the Rings: The Fellowship of the R...   \n",
       "9174  1099087   8.8  The Lord of the Rings: The Fellowship of the R...   \n",
       "9175   692753   9.0                      The Godfather: Part II (1974)   \n",
       "\n",
       "      Year_x  Decade_x  Votes_y  \\\n",
       "0       1931      1930    88355   \n",
       "1       1931      1930   192165   \n",
       "2       1931      1930   229533   \n",
       "3       1931      1930   532559   \n",
       "4       1931      1930   195266   \n",
       "...      ...       ...      ...   \n",
       "9171    1999      1990  1177098   \n",
       "9172    1999      1990  1099087   \n",
       "9173    2001      2000  1177098   \n",
       "9174    2001      2000  1099087   \n",
       "9175    1974      1970   692753   \n",
       "\n",
       "                                                Title_y  Year_y  Decade_y  \n",
       "0                                              M (1931)    1931      1930  \n",
       "1                                  Mononoke-hime (1997)    1997      1990  \n",
       "2                          Das Leben der Anderen (2006)    2006      2000  \n",
       "3                                    The Shining (1980)    1980      1980  \n",
       "4                    Once Upon a Time in America (1984)    1984      1980  \n",
       "...                                                 ...     ...       ...  \n",
       "9171                                  Fight Club (1999)    1999      1990  \n",
       "9172  The Lord of the Rings: The Fellowship of the R...    2001      2000  \n",
       "9173                                  Fight Club (1999)    1999      1990  \n",
       "9174  The Lord of the Rings: The Fellowship of the R...    2001      2000  \n",
       "9175                      The Godfather: Part II (1974)    1974      1970  \n",
       "\n",
       "[9176 rows x 9 columns]"
      ]
     },
     "execution_count": 38,
     "metadata": {},
     "output_type": "execute_result"
    }
   ],
   "source": [
    "df.merge(df2, on=['Rank'], how='inner')"
   ]
  },
  {
   "cell_type": "markdown",
   "metadata": {},
   "source": [
    "# Additional Questions\n",
    "### What are some useful things you can you do with numpy and pandas?\n",
    "     Pandas and Numpy actually have some really cool operations. NumPy has cool implmentations for matrix multiplication and matrix manipulation. Pandas lets you manipulate csv files and create data frames which can be useful for analyzing large data sets and creating custom data frames.\n",
    "### Why would those useful things be helpful in data analysis?\n",
    "    Data analysis is all about analyzing data sets that can be tricky to understand in their raw format. Using these operations can help to clean, organize and manipulate data sets to better understand information.\n",
    "### What challenges did you have in following the examples?\n",
    "    My biggest challenge was learning the difference between pseudo-code and atucal code. It was sometimes confusing about what the operations were saying. I also noticed that for the Pandas section it jumped back and forth between a Series and a DataFrame so I had to do a bit of troubleshooting to make the csv file we were using to work for either operation. I am not entirley sure if I did each example correctly but I did what I thought was the outcome and tried my best to come ot the proper expression with solution. "
   ]
  },
  {
   "cell_type": "code",
   "execution_count": null,
   "metadata": {},
   "outputs": [],
   "source": []
  }
 ],
 "metadata": {
  "kernelspec": {
   "display_name": "Python 3",
   "language": "python",
   "name": "python3"
  },
  "language_info": {
   "codemirror_mode": {
    "name": "ipython",
    "version": 3
   },
   "file_extension": ".py",
   "mimetype": "text/x-python",
   "name": "python",
   "nbconvert_exporter": "python",
   "pygments_lexer": "ipython3",
   "version": "3.7.4"
  }
 },
 "nbformat": 4,
 "nbformat_minor": 2
}
